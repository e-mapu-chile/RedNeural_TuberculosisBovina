{
 "cells": [
  {
   "cell_type": "markdown",
   "metadata": {},
   "source": [
    "# ANN - Clasificacion Riesgo Movimiento Tuberculosis Bovina\n"
   ]
  },
  {
   "cell_type": "code",
   "execution_count": 1,
   "metadata": {},
   "outputs": [],
   "source": [
    "import pandas as pd\n",
    "import numpy as np\n",
    "import matplotlib.pyplot as plt\n",
    "import seaborn as sns\n",
    "import geopandas\n",
    "from shapely.geometry import Point\n",
    "\n",
    "df = pd.read_excel('./TBB_Bovino_Train.xlsx')\n",
    "df = df[df.columns] \n",
    "df.head()"
   ]
  },
  {
   "cell_type": "code",
   "execution_count": null,
   "metadata": {},
   "outputs": [],
   "source": [
    "df.isnull().sum()"
   ]
  },
  {
   "cell_type": "code",
   "execution_count": 5,
   "metadata": {},
   "outputs": [
    {
     "data": {
      "text/html": [
       "<div>\n",
       "<style scoped>\n",
       "    .dataframe tbody tr th:only-of-type {\n",
       "        vertical-align: middle;\n",
       "    }\n",
       "\n",
       "    .dataframe tbody tr th {\n",
       "        vertical-align: top;\n",
       "    }\n",
       "\n",
       "    .dataframe thead th {\n",
       "        text-align: right;\n",
       "    }\n",
       "</style>\n",
       "<table border=\"1\" class=\"dataframe\">\n",
       "  <thead>\n",
       "    <tr style=\"text-align: right;\">\n",
       "      <th></th>\n",
       "      <th>count</th>\n",
       "      <th>mean</th>\n",
       "      <th>std</th>\n",
       "      <th>min</th>\n",
       "      <th>25%</th>\n",
       "      <th>50%</th>\n",
       "      <th>75%</th>\n",
       "      <th>max</th>\n",
       "    </tr>\n",
       "  </thead>\n",
       "  <tbody>\n",
       "    <tr>\n",
       "      <th>Id</th>\n",
       "      <td>28800.0</td>\n",
       "      <td>2.505554e+06</td>\n",
       "      <td>1.438424e+06</td>\n",
       "      <td>534.0</td>\n",
       "      <td>1267119.25</td>\n",
       "      <td>2499456.5</td>\n",
       "      <td>3746974.25</td>\n",
       "      <td>5000419.0</td>\n",
       "    </tr>\n",
       "    <tr>\n",
       "      <th>CoordenadaX</th>\n",
       "      <td>28800.0</td>\n",
       "      <td>0.000000e+00</td>\n",
       "      <td>0.000000e+00</td>\n",
       "      <td>0.0</td>\n",
       "      <td>0.00</td>\n",
       "      <td>0.0</td>\n",
       "      <td>0.00</td>\n",
       "      <td>0.0</td>\n",
       "    </tr>\n",
       "    <tr>\n",
       "      <th>CoordenadaY</th>\n",
       "      <td>28800.0</td>\n",
       "      <td>0.000000e+00</td>\n",
       "      <td>0.000000e+00</td>\n",
       "      <td>0.0</td>\n",
       "      <td>0.00</td>\n",
       "      <td>0.0</td>\n",
       "      <td>0.00</td>\n",
       "      <td>0.0</td>\n",
       "    </tr>\n",
       "    <tr>\n",
       "      <th>Huso</th>\n",
       "      <td>28800.0</td>\n",
       "      <td>0.000000e+00</td>\n",
       "      <td>0.000000e+00</td>\n",
       "      <td>0.0</td>\n",
       "      <td>0.00</td>\n",
       "      <td>0.0</td>\n",
       "      <td>0.00</td>\n",
       "      <td>0.0</td>\n",
       "    </tr>\n",
       "    <tr>\n",
       "      <th>Latitud</th>\n",
       "      <td>28800.0</td>\n",
       "      <td>0.000000e+00</td>\n",
       "      <td>0.000000e+00</td>\n",
       "      <td>0.0</td>\n",
       "      <td>0.00</td>\n",
       "      <td>0.0</td>\n",
       "      <td>0.00</td>\n",
       "      <td>0.0</td>\n",
       "    </tr>\n",
       "    <tr>\n",
       "      <th>Longitud</th>\n",
       "      <td>28800.0</td>\n",
       "      <td>0.000000e+00</td>\n",
       "      <td>0.000000e+00</td>\n",
       "      <td>0.0</td>\n",
       "      <td>0.00</td>\n",
       "      <td>0.0</td>\n",
       "      <td>0.00</td>\n",
       "      <td>0.0</td>\n",
       "    </tr>\n",
       "    <tr>\n",
       "      <th>Peso Nivel Contagio</th>\n",
       "      <td>28800.0</td>\n",
       "      <td>5.333333e+00</td>\n",
       "      <td>3.681851e+00</td>\n",
       "      <td>1.0</td>\n",
       "      <td>1.00</td>\n",
       "      <td>5.0</td>\n",
       "      <td>10.00</td>\n",
       "      <td>10.0</td>\n",
       "    </tr>\n",
       "    <tr>\n",
       "      <th>Peso Masa Entrada</th>\n",
       "      <td>28800.0</td>\n",
       "      <td>5.250000e+00</td>\n",
       "      <td>3.491121e+00</td>\n",
       "      <td>1.0</td>\n",
       "      <td>2.50</td>\n",
       "      <td>5.0</td>\n",
       "      <td>7.75</td>\n",
       "      <td>10.0</td>\n",
       "    </tr>\n",
       "    <tr>\n",
       "      <th>Peso Masa Salida</th>\n",
       "      <td>28800.0</td>\n",
       "      <td>5.250000e+00</td>\n",
       "      <td>3.491121e+00</td>\n",
       "      <td>1.0</td>\n",
       "      <td>2.50</td>\n",
       "      <td>5.0</td>\n",
       "      <td>7.75</td>\n",
       "      <td>10.0</td>\n",
       "    </tr>\n",
       "    <tr>\n",
       "      <th>Nivel Vigilancia</th>\n",
       "      <td>28800.0</td>\n",
       "      <td>2.000000e+00</td>\n",
       "      <td>8.165108e-01</td>\n",
       "      <td>1.0</td>\n",
       "      <td>1.00</td>\n",
       "      <td>2.0</td>\n",
       "      <td>3.00</td>\n",
       "      <td>3.0</td>\n",
       "    </tr>\n",
       "    <tr>\n",
       "      <th>ProtocoloLab</th>\n",
       "      <td>28800.0</td>\n",
       "      <td>0.000000e+00</td>\n",
       "      <td>0.000000e+00</td>\n",
       "      <td>0.0</td>\n",
       "      <td>0.00</td>\n",
       "      <td>0.0</td>\n",
       "      <td>0.00</td>\n",
       "      <td>0.0</td>\n",
       "    </tr>\n",
       "    <tr>\n",
       "      <th>NegativosLab</th>\n",
       "      <td>28800.0</td>\n",
       "      <td>0.000000e+00</td>\n",
       "      <td>0.000000e+00</td>\n",
       "      <td>0.0</td>\n",
       "      <td>0.00</td>\n",
       "      <td>0.0</td>\n",
       "      <td>0.00</td>\n",
       "      <td>0.0</td>\n",
       "    </tr>\n",
       "    <tr>\n",
       "      <th>PositivosLab</th>\n",
       "      <td>28800.0</td>\n",
       "      <td>0.000000e+00</td>\n",
       "      <td>0.000000e+00</td>\n",
       "      <td>0.0</td>\n",
       "      <td>0.00</td>\n",
       "      <td>0.0</td>\n",
       "      <td>0.00</td>\n",
       "      <td>0.0</td>\n",
       "    </tr>\n",
       "    <tr>\n",
       "      <th>ProtocoloPc</th>\n",
       "      <td>28800.0</td>\n",
       "      <td>0.000000e+00</td>\n",
       "      <td>0.000000e+00</td>\n",
       "      <td>0.0</td>\n",
       "      <td>0.00</td>\n",
       "      <td>0.0</td>\n",
       "      <td>0.00</td>\n",
       "      <td>0.0</td>\n",
       "    </tr>\n",
       "    <tr>\n",
       "      <th>NegativosPc</th>\n",
       "      <td>28800.0</td>\n",
       "      <td>0.000000e+00</td>\n",
       "      <td>0.000000e+00</td>\n",
       "      <td>0.0</td>\n",
       "      <td>0.00</td>\n",
       "      <td>0.0</td>\n",
       "      <td>0.00</td>\n",
       "      <td>0.0</td>\n",
       "    </tr>\n",
       "    <tr>\n",
       "      <th>PositivosPc</th>\n",
       "      <td>28800.0</td>\n",
       "      <td>0.000000e+00</td>\n",
       "      <td>0.000000e+00</td>\n",
       "      <td>0.0</td>\n",
       "      <td>0.00</td>\n",
       "      <td>0.0</td>\n",
       "      <td>0.00</td>\n",
       "      <td>0.0</td>\n",
       "    </tr>\n",
       "    <tr>\n",
       "      <th>TodosNegativosLab</th>\n",
       "      <td>28800.0</td>\n",
       "      <td>2.500000e-01</td>\n",
       "      <td>4.330202e-01</td>\n",
       "      <td>0.0</td>\n",
       "      <td>0.00</td>\n",
       "      <td>0.0</td>\n",
       "      <td>0.25</td>\n",
       "      <td>1.0</td>\n",
       "    </tr>\n",
       "    <tr>\n",
       "      <th>AlMenosUnPositivoLab</th>\n",
       "      <td>28800.0</td>\n",
       "      <td>2.500000e-01</td>\n",
       "      <td>4.330202e-01</td>\n",
       "      <td>0.0</td>\n",
       "      <td>0.00</td>\n",
       "      <td>0.0</td>\n",
       "      <td>0.25</td>\n",
       "      <td>1.0</td>\n",
       "    </tr>\n",
       "    <tr>\n",
       "      <th>TodosNegativosPc</th>\n",
       "      <td>28800.0</td>\n",
       "      <td>2.500000e-01</td>\n",
       "      <td>4.330202e-01</td>\n",
       "      <td>0.0</td>\n",
       "      <td>0.00</td>\n",
       "      <td>0.0</td>\n",
       "      <td>0.25</td>\n",
       "      <td>1.0</td>\n",
       "    </tr>\n",
       "    <tr>\n",
       "      <th>AlMenosUnPositivoPc</th>\n",
       "      <td>28800.0</td>\n",
       "      <td>2.500000e-01</td>\n",
       "      <td>4.330202e-01</td>\n",
       "      <td>0.0</td>\n",
       "      <td>0.00</td>\n",
       "      <td>0.0</td>\n",
       "      <td>0.25</td>\n",
       "      <td>1.0</td>\n",
       "    </tr>\n",
       "    <tr>\n",
       "      <th>ClasificacionSanitaria</th>\n",
       "      <td>28800.0</td>\n",
       "      <td>0.000000e+00</td>\n",
       "      <td>0.000000e+00</td>\n",
       "      <td>0.0</td>\n",
       "      <td>0.00</td>\n",
       "      <td>0.0</td>\n",
       "      <td>0.00</td>\n",
       "      <td>0.0</td>\n",
       "    </tr>\n",
       "    <tr>\n",
       "      <th>RiesgoMovimiento</th>\n",
       "      <td>28800.0</td>\n",
       "      <td>6.197917e+00</td>\n",
       "      <td>2.840554e+00</td>\n",
       "      <td>1.0</td>\n",
       "      <td>3.00</td>\n",
       "      <td>7.0</td>\n",
       "      <td>9.00</td>\n",
       "      <td>9.0</td>\n",
       "    </tr>\n",
       "    <tr>\n",
       "      <th>TextoRiesgo</th>\n",
       "      <td>0.0</td>\n",
       "      <td>NaN</td>\n",
       "      <td>NaN</td>\n",
       "      <td>NaN</td>\n",
       "      <td>NaN</td>\n",
       "      <td>NaN</td>\n",
       "      <td>NaN</td>\n",
       "      <td>NaN</td>\n",
       "    </tr>\n",
       "  </tbody>\n",
       "</table>\n",
       "</div>"
      ],
      "text/plain": [
       "                          count          mean           std    min  \\\n",
       "Id                      28800.0  2.505554e+06  1.438424e+06  534.0   \n",
       "CoordenadaX             28800.0  0.000000e+00  0.000000e+00    0.0   \n",
       "CoordenadaY             28800.0  0.000000e+00  0.000000e+00    0.0   \n",
       "Huso                    28800.0  0.000000e+00  0.000000e+00    0.0   \n",
       "Latitud                 28800.0  0.000000e+00  0.000000e+00    0.0   \n",
       "Longitud                28800.0  0.000000e+00  0.000000e+00    0.0   \n",
       "Peso Nivel Contagio     28800.0  5.333333e+00  3.681851e+00    1.0   \n",
       "Peso Masa Entrada       28800.0  5.250000e+00  3.491121e+00    1.0   \n",
       "Peso Masa Salida        28800.0  5.250000e+00  3.491121e+00    1.0   \n",
       "Nivel Vigilancia        28800.0  2.000000e+00  8.165108e-01    1.0   \n",
       "ProtocoloLab            28800.0  0.000000e+00  0.000000e+00    0.0   \n",
       "NegativosLab            28800.0  0.000000e+00  0.000000e+00    0.0   \n",
       "PositivosLab            28800.0  0.000000e+00  0.000000e+00    0.0   \n",
       "ProtocoloPc             28800.0  0.000000e+00  0.000000e+00    0.0   \n",
       " NegativosPc            28800.0  0.000000e+00  0.000000e+00    0.0   \n",
       " PositivosPc            28800.0  0.000000e+00  0.000000e+00    0.0   \n",
       "TodosNegativosLab       28800.0  2.500000e-01  4.330202e-01    0.0   \n",
       "AlMenosUnPositivoLab    28800.0  2.500000e-01  4.330202e-01    0.0   \n",
       "TodosNegativosPc        28800.0  2.500000e-01  4.330202e-01    0.0   \n",
       "AlMenosUnPositivoPc     28800.0  2.500000e-01  4.330202e-01    0.0   \n",
       "ClasificacionSanitaria  28800.0  0.000000e+00  0.000000e+00    0.0   \n",
       " RiesgoMovimiento       28800.0  6.197917e+00  2.840554e+00    1.0   \n",
       " TextoRiesgo                0.0           NaN           NaN    NaN   \n",
       "\n",
       "                               25%        50%         75%        max  \n",
       "Id                      1267119.25  2499456.5  3746974.25  5000419.0  \n",
       "CoordenadaX                   0.00        0.0        0.00        0.0  \n",
       "CoordenadaY                   0.00        0.0        0.00        0.0  \n",
       "Huso                          0.00        0.0        0.00        0.0  \n",
       "Latitud                       0.00        0.0        0.00        0.0  \n",
       "Longitud                      0.00        0.0        0.00        0.0  \n",
       "Peso Nivel Contagio           1.00        5.0       10.00       10.0  \n",
       "Peso Masa Entrada             2.50        5.0        7.75       10.0  \n",
       "Peso Masa Salida              2.50        5.0        7.75       10.0  \n",
       "Nivel Vigilancia              1.00        2.0        3.00        3.0  \n",
       "ProtocoloLab                  0.00        0.0        0.00        0.0  \n",
       "NegativosLab                  0.00        0.0        0.00        0.0  \n",
       "PositivosLab                  0.00        0.0        0.00        0.0  \n",
       "ProtocoloPc                   0.00        0.0        0.00        0.0  \n",
       " NegativosPc                  0.00        0.0        0.00        0.0  \n",
       " PositivosPc                  0.00        0.0        0.00        0.0  \n",
       "TodosNegativosLab             0.00        0.0        0.25        1.0  \n",
       "AlMenosUnPositivoLab          0.00        0.0        0.25        1.0  \n",
       "TodosNegativosPc              0.00        0.0        0.25        1.0  \n",
       "AlMenosUnPositivoPc           0.00        0.0        0.25        1.0  \n",
       "ClasificacionSanitaria        0.00        0.0        0.00        0.0  \n",
       " RiesgoMovimiento             3.00        7.0        9.00        9.0  \n",
       " TextoRiesgo                   NaN        NaN         NaN        NaN  "
      ]
     },
     "execution_count": 5,
     "metadata": {},
     "output_type": "execute_result"
    }
   ],
   "source": [
    "df.describe().transpose()"
   ]
  },
  {
   "cell_type": "code",
   "execution_count": 6,
   "metadata": {},
   "outputs": [
    {
     "name": "stdout",
     "output_type": "stream",
     "text": [
      "Correlación con Length_Employed\n"
     ]
    },
    {
     "data": {
      "text/plain": [
       "Nivel Vigilancia         -0.422937\n",
       "TodosNegativosLab        -0.418510\n",
       "TodosNegativosPc         -0.412864\n",
       "Id                       -0.005528\n",
       "Peso Masa Entrada         0.038254\n",
       "Peso Nivel Contagio       0.066236\n",
       "Peso Masa Salida          0.150302\n",
       "AlMenosUnPositivoPc       0.263245\n",
       "AlMenosUnPositivoLab      0.568129\n",
       " RiesgoMovimiento         1.000000\n",
       "CoordenadaX                    NaN\n",
       "CoordenadaY                    NaN\n",
       "Huso                           NaN\n",
       "Latitud                        NaN\n",
       "Longitud                       NaN\n",
       "ProtocoloLab                   NaN\n",
       "NegativosLab                   NaN\n",
       "PositivosLab                   NaN\n",
       "ProtocoloPc                    NaN\n",
       " NegativosPc                   NaN\n",
       " PositivosPc                   NaN\n",
       "ClasificacionSanitaria         NaN\n",
       " TextoRiesgo                   NaN\n",
       "Name:  RiesgoMovimiento, dtype: float64"
      ]
     },
     "execution_count": 6,
     "metadata": {},
     "output_type": "execute_result"
    }
   ],
   "source": [
    "# Limpiamos los valores erróneos de Length_Employed a partir de la correlación con otras variables\n",
    "print(\"Correlación con Length_Employed\")\n",
    "df.corr()[' RiesgoMovimiento'].sort_values()"
   ]
  },
  {
   "cell_type": "code",
   "execution_count": 7,
   "metadata": {},
   "outputs": [],
   "source": [
    "df = df.drop(['CoordenadaX','CoordenadaY','Huso',' TextoRiesgo','ClasificacionSanitaria',\n",
    "             'Latitud','Longitud','ProtocoloLab','ProtocoloPc',' NegativosPc',\n",
    "             'NegativosLab','PositivosLab',' PositivosPc','Id','Oficina',' TextoRiesgo'],axis=1)\n"
   ]
  },
  {
   "cell_type": "code",
   "execution_count": 8,
   "metadata": {
    "scrolled": true
   },
   "outputs": [
    {
     "data": {
      "text/plain": [
       "RUP                     0\n",
       "Peso Nivel Contagio     0\n",
       "Peso Masa Entrada       0\n",
       "Peso Masa Salida        0\n",
       "Nivel Vigilancia        0\n",
       "TodosNegativosLab       0\n",
       "AlMenosUnPositivoLab    0\n",
       "TodosNegativosPc        0\n",
       "AlMenosUnPositivoPc     0\n",
       " RiesgoMovimiento       0\n",
       "dtype: int64"
      ]
     },
     "execution_count": 8,
     "metadata": {},
     "output_type": "execute_result"
    }
   ],
   "source": [
    "df.isnull().sum()"
   ]
  },
  {
   "cell_type": "code",
   "execution_count": 9,
   "metadata": {},
   "outputs": [
    {
     "data": {
      "text/html": [
       "<div>\n",
       "<style scoped>\n",
       "    .dataframe tbody tr th:only-of-type {\n",
       "        vertical-align: middle;\n",
       "    }\n",
       "\n",
       "    .dataframe tbody tr th {\n",
       "        vertical-align: top;\n",
       "    }\n",
       "\n",
       "    .dataframe thead th {\n",
       "        text-align: right;\n",
       "    }\n",
       "</style>\n",
       "<table border=\"1\" class=\"dataframe\">\n",
       "  <thead>\n",
       "    <tr style=\"text-align: right;\">\n",
       "      <th></th>\n",
       "      <th>RUP</th>\n",
       "      <th>Peso Nivel Contagio</th>\n",
       "      <th>Peso Masa Entrada</th>\n",
       "      <th>Peso Masa Salida</th>\n",
       "      <th>Nivel Vigilancia</th>\n",
       "      <th>TodosNegativosLab</th>\n",
       "      <th>AlMenosUnPositivoLab</th>\n",
       "      <th>TodosNegativosPc</th>\n",
       "      <th>AlMenosUnPositivoPc</th>\n",
       "      <th>RiesgoMovimiento</th>\n",
       "    </tr>\n",
       "  </thead>\n",
       "  <tbody>\n",
       "    <tr>\n",
       "      <th>0</th>\n",
       "      <td>RUP_TRAIN</td>\n",
       "      <td>1</td>\n",
       "      <td>3</td>\n",
       "      <td>3</td>\n",
       "      <td>3</td>\n",
       "      <td>1</td>\n",
       "      <td>0</td>\n",
       "      <td>0</td>\n",
       "      <td>0</td>\n",
       "      <td>1</td>\n",
       "    </tr>\n",
       "    <tr>\n",
       "      <th>1</th>\n",
       "      <td>RUP_TRAIN</td>\n",
       "      <td>1</td>\n",
       "      <td>3</td>\n",
       "      <td>3</td>\n",
       "      <td>3</td>\n",
       "      <td>1</td>\n",
       "      <td>0</td>\n",
       "      <td>0</td>\n",
       "      <td>0</td>\n",
       "      <td>1</td>\n",
       "    </tr>\n",
       "    <tr>\n",
       "      <th>2</th>\n",
       "      <td>RUP_TRAIN</td>\n",
       "      <td>1</td>\n",
       "      <td>3</td>\n",
       "      <td>3</td>\n",
       "      <td>3</td>\n",
       "      <td>1</td>\n",
       "      <td>0</td>\n",
       "      <td>0</td>\n",
       "      <td>0</td>\n",
       "      <td>1</td>\n",
       "    </tr>\n",
       "    <tr>\n",
       "      <th>3</th>\n",
       "      <td>RUP_TRAIN</td>\n",
       "      <td>1</td>\n",
       "      <td>3</td>\n",
       "      <td>3</td>\n",
       "      <td>3</td>\n",
       "      <td>1</td>\n",
       "      <td>0</td>\n",
       "      <td>0</td>\n",
       "      <td>0</td>\n",
       "      <td>1</td>\n",
       "    </tr>\n",
       "    <tr>\n",
       "      <th>4</th>\n",
       "      <td>RUP_TRAIN</td>\n",
       "      <td>1</td>\n",
       "      <td>3</td>\n",
       "      <td>3</td>\n",
       "      <td>3</td>\n",
       "      <td>1</td>\n",
       "      <td>0</td>\n",
       "      <td>0</td>\n",
       "      <td>0</td>\n",
       "      <td>1</td>\n",
       "    </tr>\n",
       "  </tbody>\n",
       "</table>\n",
       "</div>"
      ],
      "text/plain": [
       "          RUP  Peso Nivel Contagio  Peso Masa Entrada  Peso Masa Salida  \\\n",
       "0   RUP_TRAIN                    1                  3                 3   \n",
       "1   RUP_TRAIN                    1                  3                 3   \n",
       "2   RUP_TRAIN                    1                  3                 3   \n",
       "3   RUP_TRAIN                    1                  3                 3   \n",
       "4   RUP_TRAIN                    1                  3                 3   \n",
       "\n",
       "   Nivel Vigilancia  TodosNegativosLab  AlMenosUnPositivoLab  \\\n",
       "0                 3                  1                     0   \n",
       "1                 3                  1                     0   \n",
       "2                 3                  1                     0   \n",
       "3                 3                  1                     0   \n",
       "4                 3                  1                     0   \n",
       "\n",
       "   TodosNegativosPc  AlMenosUnPositivoPc   RiesgoMovimiento  \n",
       "0                 0                    0                  1  \n",
       "1                 0                    0                  1  \n",
       "2                 0                    0                  1  \n",
       "3                 0                    0                  1  \n",
       "4                 0                    0                  1  "
      ]
     },
     "execution_count": 9,
     "metadata": {},
     "output_type": "execute_result"
    }
   ],
   "source": [
    "df.head()"
   ]
  },
  {
   "cell_type": "code",
   "execution_count": 10,
   "metadata": {},
   "outputs": [
    {
     "name": "stdout",
     "output_type": "stream",
     "text": [
      "Correlación con RiesgoMovimiento\n"
     ]
    },
    {
     "data": {
      "text/plain": [
       "Nivel Vigilancia       -0.422937\n",
       "TodosNegativosLab      -0.418510\n",
       "TodosNegativosPc       -0.412864\n",
       "Peso Masa Entrada       0.038254\n",
       "Peso Nivel Contagio     0.066236\n",
       "Peso Masa Salida        0.150302\n",
       "AlMenosUnPositivoPc     0.263245\n",
       "AlMenosUnPositivoLab    0.568129\n",
       " RiesgoMovimiento       1.000000\n",
       "Name:  RiesgoMovimiento, dtype: float64"
      ]
     },
     "execution_count": 10,
     "metadata": {},
     "output_type": "execute_result"
    }
   ],
   "source": [
    "# Limpiamos los valores erróneos de Annual_income a partir de la correlación con otras variables\n",
    "print(\"Correlación con RiesgoMovimiento\")\n",
    "df.corr()[' RiesgoMovimiento'].sort_values()"
   ]
  },
  {
   "cell_type": "code",
   "execution_count": 11,
   "metadata": {},
   "outputs": [
    {
     "data": {
      "text/plain": [
       " RiesgoMovimiento\n",
       "1    3.000000\n",
       "2    3.000000\n",
       "3    2.000000\n",
       "4    2.000000\n",
       "5    1.600000\n",
       "6    1.607843\n",
       "7    1.580645\n",
       "8    1.560000\n",
       "9    1.921875\n",
       "Name: Nivel Vigilancia, dtype: float64"
      ]
     },
     "execution_count": 11,
     "metadata": {},
     "output_type": "execute_result"
    }
   ],
   "source": [
    "total_acc_inc_avg = df.groupby(' RiesgoMovimiento').mean()['Nivel Vigilancia']\n",
    "total_acc_inc_avg"
   ]
  },
  {
   "cell_type": "code",
   "execution_count": 12,
   "metadata": {},
   "outputs": [
    {
     "data": {
      "text/plain": [
       "<AxesSubplot:xlabel=' RiesgoMovimiento', ylabel='count'>"
      ]
     },
     "execution_count": 12,
     "metadata": {},
     "output_type": "execute_result"
    },
    {
     "data": {
      "image/png": "[encoded data removed]",
      "text/plain": [
       "<Figure size 432x288 with 1 Axes>"
      ]
     },
     "metadata": {
      "needs_background": "light"
     },
     "output_type": "display_data"
    }
   ],
   "source": [
    "#Verificar si hay una proporción equilibrada entre los diferentes valores de la variable objetivo para un buen modelado posterior\n",
    "sns.countplot(x=' RiesgoMovimiento',data=df)"
   ]
  },
  {
   "cell_type": "code",
   "execution_count": 13,
   "metadata": {},
   "outputs": [
    {
     "data": {
      "text/plain": [
       "(10.0, 0.0)"
      ]
     },
     "execution_count": 13,
     "metadata": {},
     "output_type": "execute_result"
    },
    {
     "data": {
      "image/png": "[encoded data removed]",
      "text/plain": [
       "<Figure size 864x504 with 2 Axes>"
      ]
     },
     "metadata": {
      "needs_background": "light"
     },
     "output_type": "display_data"
    }
   ],
   "source": [
    "plt.figure(figsize=(12,7))\n",
    "sns.heatmap(df.corr(),annot=True,cmap='viridis')\n",
    "plt.ylim(10, 0)"
   ]
  },
  {
   "cell_type": "code",
   "execution_count": 14,
   "metadata": {},
   "outputs": [
    {
     "data": {
      "text/plain": [
       "Nivel Vigilancia       -0.422937\n",
       "TodosNegativosLab      -0.418510\n",
       "TodosNegativosPc       -0.412864\n",
       "Peso Masa Entrada       0.038254\n",
       "Peso Nivel Contagio     0.066236\n",
       "Peso Masa Salida        0.150302\n",
       "AlMenosUnPositivoPc     0.263245\n",
       "AlMenosUnPositivoLab    0.568129\n",
       " RiesgoMovimiento       1.000000\n",
       "Name:  RiesgoMovimiento, dtype: float64"
      ]
     },
     "execution_count": 14,
     "metadata": {},
     "output_type": "execute_result"
    }
   ],
   "source": [
    "df.corr()[' RiesgoMovimiento'].sort_values()"
   ]
  },
  {
   "cell_type": "code",
   "execution_count": 15,
   "metadata": {},
   "outputs": [
    {
     "data": {
      "text/plain": [
       "<AxesSubplot:>"
      ]
     },
     "execution_count": 15,
     "metadata": {},
     "output_type": "execute_result"
    },
    {
     "data": {
      "image/png": "[encoded data removed]",
      "text/plain": [
       "<Figure size 432x288 with 1 Axes>"
      ]
     },
     "metadata": {
      "needs_background": "light"
     },
     "output_type": "display_data"
    }
   ],
   "source": [
    "df.corr()[' RiesgoMovimiento'][:-1].sort_values().plot(kind='bar') #Quitamos la propia variable objetivo"
   ]
  },
  {
   "cell_type": "code",
   "execution_count": 17,
   "metadata": {},
   "outputs": [
    {
     "data": {
      "text/html": [
       "<div>\n",
       "<style scoped>\n",
       "    .dataframe tbody tr th:only-of-type {\n",
       "        vertical-align: middle;\n",
       "    }\n",
       "\n",
       "    .dataframe tbody tr th {\n",
       "        vertical-align: top;\n",
       "    }\n",
       "\n",
       "    .dataframe thead th {\n",
       "        text-align: right;\n",
       "    }\n",
       "</style>\n",
       "<table border=\"1\" class=\"dataframe\">\n",
       "  <thead>\n",
       "    <tr style=\"text-align: right;\">\n",
       "      <th></th>\n",
       "      <th>RUP</th>\n",
       "      <th>Peso Nivel Contagio</th>\n",
       "      <th>Peso Masa Entrada</th>\n",
       "      <th>Peso Masa Salida</th>\n",
       "      <th>Nivel Vigilancia</th>\n",
       "      <th>TodosNegativosLab</th>\n",
       "      <th>AlMenosUnPositivoLab</th>\n",
       "      <th>TodosNegativosPc</th>\n",
       "      <th>AlMenosUnPositivoPc</th>\n",
       "      <th>RiesgoMovimiento</th>\n",
       "    </tr>\n",
       "  </thead>\n",
       "  <tbody>\n",
       "    <tr>\n",
       "      <th>0</th>\n",
       "      <td>RUP_TRAIN</td>\n",
       "      <td>1</td>\n",
       "      <td>3</td>\n",
       "      <td>3</td>\n",
       "      <td>3</td>\n",
       "      <td>1</td>\n",
       "      <td>0</td>\n",
       "      <td>0</td>\n",
       "      <td>0</td>\n",
       "      <td>1</td>\n",
       "    </tr>\n",
       "    <tr>\n",
       "      <th>1</th>\n",
       "      <td>RUP_TRAIN</td>\n",
       "      <td>1</td>\n",
       "      <td>3</td>\n",
       "      <td>3</td>\n",
       "      <td>3</td>\n",
       "      <td>1</td>\n",
       "      <td>0</td>\n",
       "      <td>0</td>\n",
       "      <td>0</td>\n",
       "      <td>1</td>\n",
       "    </tr>\n",
       "    <tr>\n",
       "      <th>2</th>\n",
       "      <td>RUP_TRAIN</td>\n",
       "      <td>1</td>\n",
       "      <td>3</td>\n",
       "      <td>3</td>\n",
       "      <td>3</td>\n",
       "      <td>1</td>\n",
       "      <td>0</td>\n",
       "      <td>0</td>\n",
       "      <td>0</td>\n",
       "      <td>1</td>\n",
       "    </tr>\n",
       "    <tr>\n",
       "      <th>3</th>\n",
       "      <td>RUP_TRAIN</td>\n",
       "      <td>1</td>\n",
       "      <td>3</td>\n",
       "      <td>3</td>\n",
       "      <td>3</td>\n",
       "      <td>1</td>\n",
       "      <td>0</td>\n",
       "      <td>0</td>\n",
       "      <td>0</td>\n",
       "      <td>1</td>\n",
       "    </tr>\n",
       "    <tr>\n",
       "      <th>4</th>\n",
       "      <td>RUP_TRAIN</td>\n",
       "      <td>1</td>\n",
       "      <td>3</td>\n",
       "      <td>3</td>\n",
       "      <td>3</td>\n",
       "      <td>1</td>\n",
       "      <td>0</td>\n",
       "      <td>0</td>\n",
       "      <td>0</td>\n",
       "      <td>1</td>\n",
       "    </tr>\n",
       "  </tbody>\n",
       "</table>\n",
       "</div>"
      ],
      "text/plain": [
       "          RUP  Peso Nivel Contagio  Peso Masa Entrada  Peso Masa Salida  \\\n",
       "0   RUP_TRAIN                    1                  3                 3   \n",
       "1   RUP_TRAIN                    1                  3                 3   \n",
       "2   RUP_TRAIN                    1                  3                 3   \n",
       "3   RUP_TRAIN                    1                  3                 3   \n",
       "4   RUP_TRAIN                    1                  3                 3   \n",
       "\n",
       "   Nivel Vigilancia  TodosNegativosLab  AlMenosUnPositivoLab  \\\n",
       "0                 3                  1                     0   \n",
       "1                 3                  1                     0   \n",
       "2                 3                  1                     0   \n",
       "3                 3                  1                     0   \n",
       "4                 3                  1                     0   \n",
       "\n",
       "   TodosNegativosPc  AlMenosUnPositivoPc   RiesgoMovimiento  \n",
       "0                 0                    0                  1  \n",
       "1                 0                    0                  1  \n",
       "2                 0                    0                  1  \n",
       "3                 0                    0                  1  \n",
       "4                 0                    0                  1  "
      ]
     },
     "execution_count": 17,
     "metadata": {},
     "output_type": "execute_result"
    }
   ],
   "source": [
    "df.head()"
   ]
  },
  {
   "cell_type": "code",
   "execution_count": 18,
   "metadata": {},
   "outputs": [
    {
     "data": {
      "text/plain": [
       "Nivel Vigilancia       -0.422937\n",
       "TodosNegativosLab      -0.418510\n",
       "TodosNegativosPc       -0.412864\n",
       "Peso Masa Entrada       0.038254\n",
       "Peso Nivel Contagio     0.066236\n",
       "Peso Masa Salida        0.150302\n",
       "AlMenosUnPositivoPc     0.263245\n",
       "AlMenosUnPositivoLab    0.568129\n",
       " RiesgoMovimiento       1.000000\n",
       "Name:  RiesgoMovimiento, dtype: float64"
      ]
     },
     "execution_count": 18,
     "metadata": {},
     "output_type": "execute_result"
    }
   ],
   "source": [
    "df.corr()[' RiesgoMovimiento'].sort_values() #Podríamos eliminar \"Number_Open_Accounts\", correlación muy baja"
   ]
  },
  {
   "cell_type": "code",
   "execution_count": 19,
   "metadata": {
    "scrolled": true
   },
   "outputs": [
    {
     "data": {
      "text/html": [
       "<div>\n",
       "<style scoped>\n",
       "    .dataframe tbody tr th:only-of-type {\n",
       "        vertical-align: middle;\n",
       "    }\n",
       "\n",
       "    .dataframe tbody tr th {\n",
       "        vertical-align: top;\n",
       "    }\n",
       "\n",
       "    .dataframe thead th {\n",
       "        text-align: right;\n",
       "    }\n",
       "</style>\n",
       "<table border=\"1\" class=\"dataframe\">\n",
       "  <thead>\n",
       "    <tr style=\"text-align: right;\">\n",
       "      <th></th>\n",
       "      <th>Peso Nivel Contagio</th>\n",
       "      <th>Peso Masa Entrada</th>\n",
       "      <th>Peso Masa Salida</th>\n",
       "      <th>Nivel Vigilancia</th>\n",
       "      <th>TodosNegativosLab</th>\n",
       "      <th>AlMenosUnPositivoLab</th>\n",
       "      <th>TodosNegativosPc</th>\n",
       "      <th>AlMenosUnPositivoPc</th>\n",
       "      <th>RiesgoMovimiento</th>\n",
       "    </tr>\n",
       "  </thead>\n",
       "  <tbody>\n",
       "    <tr>\n",
       "      <th>0</th>\n",
       "      <td>1</td>\n",
       "      <td>3</td>\n",
       "      <td>3</td>\n",
       "      <td>3</td>\n",
       "      <td>1</td>\n",
       "      <td>0</td>\n",
       "      <td>0</td>\n",
       "      <td>0</td>\n",
       "      <td>1</td>\n",
       "    </tr>\n",
       "    <tr>\n",
       "      <th>1</th>\n",
       "      <td>1</td>\n",
       "      <td>3</td>\n",
       "      <td>3</td>\n",
       "      <td>3</td>\n",
       "      <td>1</td>\n",
       "      <td>0</td>\n",
       "      <td>0</td>\n",
       "      <td>0</td>\n",
       "      <td>1</td>\n",
       "    </tr>\n",
       "    <tr>\n",
       "      <th>2</th>\n",
       "      <td>1</td>\n",
       "      <td>3</td>\n",
       "      <td>3</td>\n",
       "      <td>3</td>\n",
       "      <td>1</td>\n",
       "      <td>0</td>\n",
       "      <td>0</td>\n",
       "      <td>0</td>\n",
       "      <td>1</td>\n",
       "    </tr>\n",
       "    <tr>\n",
       "      <th>3</th>\n",
       "      <td>1</td>\n",
       "      <td>3</td>\n",
       "      <td>3</td>\n",
       "      <td>3</td>\n",
       "      <td>1</td>\n",
       "      <td>0</td>\n",
       "      <td>0</td>\n",
       "      <td>0</td>\n",
       "      <td>1</td>\n",
       "    </tr>\n",
       "    <tr>\n",
       "      <th>4</th>\n",
       "      <td>1</td>\n",
       "      <td>3</td>\n",
       "      <td>3</td>\n",
       "      <td>3</td>\n",
       "      <td>1</td>\n",
       "      <td>0</td>\n",
       "      <td>0</td>\n",
       "      <td>0</td>\n",
       "      <td>1</td>\n",
       "    </tr>\n",
       "  </tbody>\n",
       "</table>\n",
       "</div>"
      ],
      "text/plain": [
       "   Peso Nivel Contagio  Peso Masa Entrada  Peso Masa Salida  Nivel Vigilancia  \\\n",
       "0                    1                  3                 3                 3   \n",
       "1                    1                  3                 3                 3   \n",
       "2                    1                  3                 3                 3   \n",
       "3                    1                  3                 3                 3   \n",
       "4                    1                  3                 3                 3   \n",
       "\n",
       "   TodosNegativosLab  AlMenosUnPositivoLab  TodosNegativosPc  \\\n",
       "0                  1                     0                 0   \n",
       "1                  1                     0                 0   \n",
       "2                  1                     0                 0   \n",
       "3                  1                     0                 0   \n",
       "4                  1                     0                 0   \n",
       "\n",
       "   AlMenosUnPositivoPc   RiesgoMovimiento  \n",
       "0                    0                  1  \n",
       "1                    0                  1  \n",
       "2                    0                  1  \n",
       "3                    0                  1  \n",
       "4                    0                  1  "
      ]
     },
     "execution_count": 19,
     "metadata": {},
     "output_type": "execute_result"
    }
   ],
   "source": [
    "df = df.drop(['RUP'],axis=1)\n",
    "df.head()"
   ]
  },
  {
   "cell_type": "markdown",
   "metadata": {},
   "source": [
    "### Transformación variables categóricas"
   ]
  },
  {
   "cell_type": "code",
   "execution_count": 21,
   "metadata": {},
   "outputs": [
    {
     "data": {
      "text/html": [
       "<div>\n",
       "<style scoped>\n",
       "    .dataframe tbody tr th:only-of-type {\n",
       "        vertical-align: middle;\n",
       "    }\n",
       "\n",
       "    .dataframe tbody tr th {\n",
       "        vertical-align: top;\n",
       "    }\n",
       "\n",
       "    .dataframe thead th {\n",
       "        text-align: right;\n",
       "    }\n",
       "</style>\n",
       "<table border=\"1\" class=\"dataframe\">\n",
       "  <thead>\n",
       "    <tr style=\"text-align: right;\">\n",
       "      <th></th>\n",
       "      <th>Peso Nivel Contagio</th>\n",
       "      <th>Peso Masa Entrada</th>\n",
       "      <th>Peso Masa Salida</th>\n",
       "      <th>Nivel Vigilancia</th>\n",
       "      <th>TodosNegativosLab</th>\n",
       "      <th>AlMenosUnPositivoLab</th>\n",
       "      <th>TodosNegativosPc</th>\n",
       "      <th>AlMenosUnPositivoPc</th>\n",
       "      <th>RiesgoMovimiento</th>\n",
       "    </tr>\n",
       "  </thead>\n",
       "  <tbody>\n",
       "    <tr>\n",
       "      <th>0</th>\n",
       "      <td>1</td>\n",
       "      <td>3</td>\n",
       "      <td>3</td>\n",
       "      <td>3</td>\n",
       "      <td>1</td>\n",
       "      <td>0</td>\n",
       "      <td>0</td>\n",
       "      <td>0</td>\n",
       "      <td>1</td>\n",
       "    </tr>\n",
       "    <tr>\n",
       "      <th>1</th>\n",
       "      <td>1</td>\n",
       "      <td>3</td>\n",
       "      <td>3</td>\n",
       "      <td>3</td>\n",
       "      <td>1</td>\n",
       "      <td>0</td>\n",
       "      <td>0</td>\n",
       "      <td>0</td>\n",
       "      <td>1</td>\n",
       "    </tr>\n",
       "    <tr>\n",
       "      <th>2</th>\n",
       "      <td>1</td>\n",
       "      <td>3</td>\n",
       "      <td>3</td>\n",
       "      <td>3</td>\n",
       "      <td>1</td>\n",
       "      <td>0</td>\n",
       "      <td>0</td>\n",
       "      <td>0</td>\n",
       "      <td>1</td>\n",
       "    </tr>\n",
       "    <tr>\n",
       "      <th>3</th>\n",
       "      <td>1</td>\n",
       "      <td>3</td>\n",
       "      <td>3</td>\n",
       "      <td>3</td>\n",
       "      <td>1</td>\n",
       "      <td>0</td>\n",
       "      <td>0</td>\n",
       "      <td>0</td>\n",
       "      <td>1</td>\n",
       "    </tr>\n",
       "    <tr>\n",
       "      <th>4</th>\n",
       "      <td>1</td>\n",
       "      <td>3</td>\n",
       "      <td>3</td>\n",
       "      <td>3</td>\n",
       "      <td>1</td>\n",
       "      <td>0</td>\n",
       "      <td>0</td>\n",
       "      <td>0</td>\n",
       "      <td>1</td>\n",
       "    </tr>\n",
       "  </tbody>\n",
       "</table>\n",
       "</div>"
      ],
      "text/plain": [
       "   Peso Nivel Contagio  Peso Masa Entrada  Peso Masa Salida  Nivel Vigilancia  \\\n",
       "0                    1                  3                 3                 3   \n",
       "1                    1                  3                 3                 3   \n",
       "2                    1                  3                 3                 3   \n",
       "3                    1                  3                 3                 3   \n",
       "4                    1                  3                 3                 3   \n",
       "\n",
       "   TodosNegativosLab  AlMenosUnPositivoLab  TodosNegativosPc  \\\n",
       "0                  1                     0                 0   \n",
       "1                  1                     0                 0   \n",
       "2                  1                     0                 0   \n",
       "3                  1                     0                 0   \n",
       "4                  1                     0                 0   \n",
       "\n",
       "   AlMenosUnPositivoPc   RiesgoMovimiento  \n",
       "0                    0                  1  \n",
       "1                    0                  1  \n",
       "2                    0                  1  \n",
       "3                    0                  1  \n",
       "4                    0                  1  "
      ]
     },
     "execution_count": 21,
     "metadata": {},
     "output_type": "execute_result"
    }
   ],
   "source": [
    "df.head()"
   ]
  },
  {
   "cell_type": "code",
   "execution_count": 22,
   "metadata": {},
   "outputs": [
    {
     "data": {
      "text/plain": [
       "3    9600\n",
       "2    9600\n",
       "1    9600\n",
       "Name: Nivel Vigilancia, dtype: int64"
      ]
     },
     "execution_count": 22,
     "metadata": {},
     "output_type": "execute_result"
    }
   ],
   "source": [
    "df['Nivel Vigilancia'].value_counts() # Pensar si merece la pena realizar algún filtrado de datos si alguna categoría tiene un contador muy bajo y así ahorramos columnas dummy"
   ]
  },
  {
   "cell_type": "code",
   "execution_count": 23,
   "metadata": {},
   "outputs": [],
   "source": [
    "#Transformar 'Home_Owner'\n",
    "#dummies = pd.get_dummies(df[['Nivel Vigilancia']]) #se puede añadir drop_first=True evita redundancia y evita crear una columna por cada variable\n",
    "#df_post = pd.concat([df,dummies],axis=1)\n",
    "#df_post = df_post.drop(['Nivel Vigilancia'],axis=1) #Eliminamos las columnas originales\n",
    "df_post =  pd.concat([df],axis=1)"
   ]
  },
  {
   "cell_type": "code",
   "execution_count": 24,
   "metadata": {},
   "outputs": [
    {
     "name": "stdout",
     "output_type": "stream",
     "text": [
      "<class 'pandas.core.frame.DataFrame'>\n",
      "RangeIndex: 28800 entries, 0 to 28799\n",
      "Data columns (total 9 columns):\n",
      " #   Column                Non-Null Count  Dtype\n",
      "---  ------                --------------  -----\n",
      " 0   Peso Nivel Contagio   28800 non-null  int64\n",
      " 1   Peso Masa Entrada     28800 non-null  int64\n",
      " 2   Peso Masa Salida      28800 non-null  int64\n",
      " 3   Nivel Vigilancia      28800 non-null  int64\n",
      " 4   TodosNegativosLab     28800 non-null  int64\n",
      " 5   AlMenosUnPositivoLab  28800 non-null  int64\n",
      " 6   TodosNegativosPc      28800 non-null  int64\n",
      " 7   AlMenosUnPositivoPc   28800 non-null  int64\n",
      " 8    RiesgoMovimiento     28800 non-null  int64\n",
      "dtypes: int64(9)\n",
      "memory usage: 2.0 MB\n"
     ]
    }
   ],
   "source": [
    "df_post.info()"
   ]
  },
  {
   "cell_type": "code",
   "execution_count": 25,
   "metadata": {},
   "outputs": [
    {
     "data": {
      "text/html": [
       "<div>\n",
       "<style scoped>\n",
       "    .dataframe tbody tr th:only-of-type {\n",
       "        vertical-align: middle;\n",
       "    }\n",
       "\n",
       "    .dataframe tbody tr th {\n",
       "        vertical-align: top;\n",
       "    }\n",
       "\n",
       "    .dataframe thead th {\n",
       "        text-align: right;\n",
       "    }\n",
       "</style>\n",
       "<table border=\"1\" class=\"dataframe\">\n",
       "  <thead>\n",
       "    <tr style=\"text-align: right;\">\n",
       "      <th></th>\n",
       "      <th>Peso Nivel Contagio</th>\n",
       "      <th>Peso Masa Entrada</th>\n",
       "      <th>Peso Masa Salida</th>\n",
       "      <th>Nivel Vigilancia</th>\n",
       "      <th>TodosNegativosLab</th>\n",
       "      <th>AlMenosUnPositivoLab</th>\n",
       "      <th>TodosNegativosPc</th>\n",
       "      <th>AlMenosUnPositivoPc</th>\n",
       "      <th>RiesgoMovimiento</th>\n",
       "    </tr>\n",
       "  </thead>\n",
       "  <tbody>\n",
       "    <tr>\n",
       "      <th>0</th>\n",
       "      <td>1</td>\n",
       "      <td>3</td>\n",
       "      <td>3</td>\n",
       "      <td>3</td>\n",
       "      <td>1</td>\n",
       "      <td>0</td>\n",
       "      <td>0</td>\n",
       "      <td>0</td>\n",
       "      <td>1</td>\n",
       "    </tr>\n",
       "    <tr>\n",
       "      <th>1</th>\n",
       "      <td>1</td>\n",
       "      <td>3</td>\n",
       "      <td>3</td>\n",
       "      <td>3</td>\n",
       "      <td>1</td>\n",
       "      <td>0</td>\n",
       "      <td>0</td>\n",
       "      <td>0</td>\n",
       "      <td>1</td>\n",
       "    </tr>\n",
       "    <tr>\n",
       "      <th>2</th>\n",
       "      <td>1</td>\n",
       "      <td>3</td>\n",
       "      <td>3</td>\n",
       "      <td>3</td>\n",
       "      <td>1</td>\n",
       "      <td>0</td>\n",
       "      <td>0</td>\n",
       "      <td>0</td>\n",
       "      <td>1</td>\n",
       "    </tr>\n",
       "    <tr>\n",
       "      <th>3</th>\n",
       "      <td>1</td>\n",
       "      <td>3</td>\n",
       "      <td>3</td>\n",
       "      <td>3</td>\n",
       "      <td>1</td>\n",
       "      <td>0</td>\n",
       "      <td>0</td>\n",
       "      <td>0</td>\n",
       "      <td>1</td>\n",
       "    </tr>\n",
       "    <tr>\n",
       "      <th>4</th>\n",
       "      <td>1</td>\n",
       "      <td>3</td>\n",
       "      <td>3</td>\n",
       "      <td>3</td>\n",
       "      <td>1</td>\n",
       "      <td>0</td>\n",
       "      <td>0</td>\n",
       "      <td>0</td>\n",
       "      <td>1</td>\n",
       "    </tr>\n",
       "  </tbody>\n",
       "</table>\n",
       "</div>"
      ],
      "text/plain": [
       "   Peso Nivel Contagio  Peso Masa Entrada  Peso Masa Salida  Nivel Vigilancia  \\\n",
       "0                    1                  3                 3                 3   \n",
       "1                    1                  3                 3                 3   \n",
       "2                    1                  3                 3                 3   \n",
       "3                    1                  3                 3                 3   \n",
       "4                    1                  3                 3                 3   \n",
       "\n",
       "   TodosNegativosLab  AlMenosUnPositivoLab  TodosNegativosPc  \\\n",
       "0                  1                     0                 0   \n",
       "1                  1                     0                 0   \n",
       "2                  1                     0                 0   \n",
       "3                  1                     0                 0   \n",
       "4                  1                     0                 0   \n",
       "\n",
       "   AlMenosUnPositivoPc   RiesgoMovimiento  \n",
       "0                    0                  1  \n",
       "1                    0                  1  \n",
       "2                    0                  1  \n",
       "3                    0                  1  \n",
       "4                    0                  1  "
      ]
     },
     "execution_count": 25,
     "metadata": {},
     "output_type": "execute_result"
    }
   ],
   "source": [
    "df_post.head()"
   ]
  },
  {
   "cell_type": "code",
   "execution_count": 26,
   "metadata": {},
   "outputs": [],
   "source": [
    "X = df_post.drop(' RiesgoMovimiento',axis=1).values"
   ]
  },
  {
   "cell_type": "code",
   "execution_count": 27,
   "metadata": {},
   "outputs": [],
   "source": [
    "y = df_post[' RiesgoMovimiento']"
   ]
  },
  {
   "cell_type": "code",
   "execution_count": 28,
   "metadata": {},
   "outputs": [],
   "source": [
    "y = pd.get_dummies(y)\n",
    "# Si la variable objetivo está en formato string, utilizar lo siguiente:\n",
    "# Primero codificar la variable objetivo como integers y después aplicar one hot encoding\n",
    "#from keras.utils import np_utils\n",
    "#from sklearn.preprocessing import LabelEncoder\n",
    "# encoder = LabelEncoder()\n",
    "# encoder.fit(Y)\n",
    "# Y = encoder.transform(Y)\n",
    "# Y = np_utils.to_categorical(Y)"
   ]
  },
  {
   "cell_type": "code",
   "execution_count": 29,
   "metadata": {},
   "outputs": [],
   "source": [
    "y = y.values"
   ]
  },
  {
   "cell_type": "code",
   "execution_count": 30,
   "metadata": {},
   "outputs": [
    {
     "data": {
      "text/plain": [
       "array([[1, 0, 0, ..., 0, 0, 0],\n",
       "       [1, 0, 0, ..., 0, 0, 0],\n",
       "       [1, 0, 0, ..., 0, 0, 0],\n",
       "       ...,\n",
       "       [0, 0, 0, ..., 0, 0, 1],\n",
       "       [0, 0, 0, ..., 0, 0, 1],\n",
       "       [0, 0, 0, ..., 0, 0, 1]], dtype=uint8)"
      ]
     },
     "execution_count": 30,
     "metadata": {},
     "output_type": "execute_result"
    }
   ],
   "source": [
    "y"
   ]
  },
  {
   "cell_type": "code",
   "execution_count": 31,
   "metadata": {},
   "outputs": [],
   "source": [
    "from sklearn.model_selection import train_test_split"
   ]
  },
  {
   "cell_type": "code",
   "execution_count": 32,
   "metadata": {},
   "outputs": [],
   "source": [
    "X_train, X_test, y_train, y_test = train_test_split(X,y,test_size=0.25,random_state=101)"
   ]
  },
  {
   "cell_type": "code",
   "execution_count": 33,
   "metadata": {},
   "outputs": [
    {
     "data": {
      "text/plain": [
       "(21600, 8)"
      ]
     },
     "execution_count": 33,
     "metadata": {},
     "output_type": "execute_result"
    }
   ],
   "source": [
    "X_train.shape"
   ]
  },
  {
   "cell_type": "code",
   "execution_count": 34,
   "metadata": {},
   "outputs": [
    {
     "data": {
      "text/plain": [
       "(7200, 8)"
      ]
     },
     "execution_count": 34,
     "metadata": {},
     "output_type": "execute_result"
    }
   ],
   "source": [
    "X_test.shape"
   ]
  },
  {
   "cell_type": "markdown",
   "metadata": {},
   "source": [
    "# Escalado"
   ]
  },
  {
   "cell_type": "code",
   "execution_count": 35,
   "metadata": {},
   "outputs": [],
   "source": [
    "from sklearn.preprocessing import MinMaxScaler"
   ]
  },
  {
   "cell_type": "code",
   "execution_count": 36,
   "metadata": {},
   "outputs": [],
   "source": [
    "scaler = MinMaxScaler()"
   ]
  },
  {
   "cell_type": "code",
   "execution_count": 37,
   "metadata": {},
   "outputs": [
    {
     "data": {
      "text/plain": [
       "MinMaxScaler()"
      ]
     },
     "execution_count": 37,
     "metadata": {},
     "output_type": "execute_result"
    }
   ],
   "source": [
    "scaler.fit(X_train)"
   ]
  },
  {
   "cell_type": "code",
   "execution_count": 38,
   "metadata": {},
   "outputs": [],
   "source": [
    "X_train = scaler.transform(X_train)\n",
    "X_test = scaler.transform(X_test)"
   ]
  },
  {
   "cell_type": "code",
   "execution_count": 39,
   "metadata": {},
   "outputs": [
    {
     "data": {
      "text/plain": [
       "(21600, 8)"
      ]
     },
     "execution_count": 39,
     "metadata": {},
     "output_type": "execute_result"
    }
   ],
   "source": [
    "X_train.shape"
   ]
  },
  {
   "cell_type": "code",
   "execution_count": 40,
   "metadata": {},
   "outputs": [
    {
     "data": {
      "text/plain": [
       "(7200, 8)"
      ]
     },
     "execution_count": 40,
     "metadata": {},
     "output_type": "execute_result"
    }
   ],
   "source": [
    "X_test.shape"
   ]
  },
  {
   "cell_type": "code",
   "execution_count": 41,
   "metadata": {},
   "outputs": [
    {
     "data": {
      "text/plain": [
       "array([[0.        , 1.        , 0.        , ..., 0.        , 1.        ,\n",
       "        0.        ],\n",
       "       [1.        , 0.66666667, 0.66666667, ..., 0.        , 0.        ,\n",
       "        1.        ],\n",
       "       [1.        , 0.22222222, 0.        , ..., 0.        , 0.        ,\n",
       "        0.        ],\n",
       "       ...,\n",
       "       [0.44444444, 1.        , 1.        , ..., 0.        , 0.        ,\n",
       "        0.        ],\n",
       "       [0.44444444, 1.        , 1.        , ..., 0.        , 0.        ,\n",
       "        1.        ],\n",
       "       [0.44444444, 0.22222222, 0.66666667, ..., 0.        , 1.        ,\n",
       "        0.        ]])"
      ]
     },
     "execution_count": 41,
     "metadata": {},
     "output_type": "execute_result"
    }
   ],
   "source": [
    "X_train"
   ]
  },
  {
   "cell_type": "code",
   "execution_count": 42,
   "metadata": {
    "scrolled": true
   },
   "outputs": [
    {
     "data": {
      "text/plain": [
       "1.0"
      ]
     },
     "execution_count": 42,
     "metadata": {},
     "output_type": "execute_result"
    }
   ],
   "source": [
    "X_train.max()"
   ]
  },
  {
   "cell_type": "code",
   "execution_count": 43,
   "metadata": {},
   "outputs": [],
   "source": [
    "import tensorflow as tf\n",
    "from tensorflow.keras.models import Sequential\n",
    "from tensorflow.keras.layers import Dense, Activation,Dropout"
   ]
  },
  {
   "cell_type": "code",
   "execution_count": 44,
   "metadata": {},
   "outputs": [
    {
     "data": {
      "text/plain": [
       "(21600, 8)"
      ]
     },
     "execution_count": 44,
     "metadata": {},
     "output_type": "execute_result"
    }
   ],
   "source": [
    "X_train.shape"
   ]
  },
  {
   "cell_type": "code",
   "execution_count": 45,
   "metadata": {},
   "outputs": [],
   "source": [
    "model = Sequential()\n",
    "\n",
    "num_neuronas = X_train.shape[1]\n",
    "num_neuronas_salida = len(df[\" RiesgoMovimiento\"].unique())\n",
    "model.add(Dense(units=num_neuronas,activation='relu'))\n",
    "model.add(Dense(units=np.round(num_neuronas/2),activation='relu'))\n",
    "model.add(Dense(units=num_neuronas_salida,activation='softmax')) \n",
    "model.compile(loss='categorical_crossentropy', optimizer='adam',metrics=['categorical_accuracy'])"
   ]
  },
  {
   "cell_type": "markdown",
   "metadata": {},
   "source": [
    "# Entrenamiento del modelo"
   ]
  },
  {
   "cell_type": "code",
   "execution_count": 46,
   "metadata": {},
   "outputs": [],
   "source": [
    "from tensorflow.keras.callbacks import EarlyStopping\n",
    "early_stop = EarlyStopping(monitor='val_loss', mode='min', verbose=1, patience=15)"
   ]
  },
  {
   "cell_type": "code",
   "execution_count": null,
   "metadata": {},
   "outputs": [
    {
     "ename": "NameError",
     "evalue": "name 'model' is not defined",
     "output_type": "error",
     "traceback": [
      "\u001b[1;31m---------------------------------------------------------------------------\u001b[0m",
      "\u001b[1;31mNameError\u001b[0m                                 Traceback (most recent call last)",
      "Input \u001b[1;32mIn [1]\u001b[0m, in \u001b[0;36m<cell line: 1>\u001b[1;34m()\u001b[0m\n\u001b[1;32m----> 1\u001b[0m \u001b[43mmodel\u001b[49m\u001b[38;5;241m.\u001b[39mfit(x\u001b[38;5;241m=\u001b[39mX_train, \n\u001b[0;32m      2\u001b[0m           y\u001b[38;5;241m=\u001b[39my_train, \n\u001b[0;32m      3\u001b[0m           epochs\u001b[38;5;241m=\u001b[39m\u001b[38;5;241m200\u001b[39m,\n\u001b[0;32m      4\u001b[0m           batch_size\u001b[38;5;241m=\u001b[39m\u001b[38;5;241m64\u001b[39m,\n\u001b[0;32m      5\u001b[0m           validation_data\u001b[38;5;241m=\u001b[39m(X_test, y_test), verbose\u001b[38;5;241m=\u001b[39m\u001b[38;5;241m1\u001b[39m,\n\u001b[0;32m      6\u001b[0m           callbacks\u001b[38;5;241m=\u001b[39m[early_stop]\n\u001b[0;32m      7\u001b[0m           )\n",
      "\u001b[1;31mNameError\u001b[0m: name 'model' is not defined"
     ]
    }
   ],
   "source": [
    "model.fit(x=X_train, \n",
    "          y=y_train, \n",
    "          epochs=200,\n",
    "          batch_size=64,\n",
    "          validation_data=(X_test, y_test), verbose=1,\n",
    "          callbacks=[early_stop]\n",
    "          )"
   ]
  },
  {
   "cell_type": "code",
   "execution_count": 48,
   "metadata": {},
   "outputs": [
    {
     "data": {
      "text/plain": [
       "<AxesSubplot:>"
      ]
     },
     "execution_count": 48,
     "metadata": {},
     "output_type": "execute_result"
    },
    {
     "data": {
      "image/png": "[encoded data removed]",
      "text/plain": [
       "<Figure size 432x288 with 1 Axes>"
      ]
     },
     "metadata": {
      "needs_background": "light"
     },
     "output_type": "display_data"
    }
   ],
   "source": [
    "model_loss = pd.DataFrame(model.history.history)\n",
    "model_loss.plot()"
   ]
  },
  {
   "cell_type": "markdown",
   "metadata": {},
   "source": [
    "# Evaluación del modelo"
   ]
  },
  {
   "cell_type": "code",
   "execution_count": 49,
   "metadata": {},
   "outputs": [],
   "source": [
    "from sklearn.metrics import classification_report,confusion_matrix"
   ]
  },
  {
   "cell_type": "markdown",
   "metadata": {},
   "source": [
    "##  Predicción sobre el conjunto de Test"
   ]
  },
  {
   "cell_type": "code",
   "execution_count": 50,
   "metadata": {},
   "outputs": [
    {
     "name": "stdout",
     "output_type": "stream",
     "text": [
      "225/225 [==============================] - 1s 2ms/step\n"
     ]
    }
   ],
   "source": [
    "predictions = (model.predict(X_test) > 0.5).astype(\"int32\") "
   ]
  },
  {
   "cell_type": "code",
   "execution_count": 51,
   "metadata": {},
   "outputs": [
    {
     "data": {
      "text/plain": [
       "array([[0, 0, 0, ..., 0, 0, 1],\n",
       "       [1, 0, 0, ..., 0, 0, 0],\n",
       "       [0, 0, 0, ..., 0, 1, 0],\n",
       "       ...,\n",
       "       [0, 0, 0, ..., 0, 0, 0],\n",
       "       [0, 0, 0, ..., 1, 0, 0],\n",
       "       [0, 0, 0, ..., 0, 0, 0]], dtype=uint8)"
      ]
     },
     "execution_count": 51,
     "metadata": {},
     "output_type": "execute_result"
    }
   ],
   "source": [
    "y_test"
   ]
  },
  {
   "cell_type": "code",
   "execution_count": 52,
   "metadata": {},
   "outputs": [
    {
     "data": {
      "text/plain": [
       "array([[0, 0, 0, ..., 0, 0, 1],\n",
       "       [1, 0, 0, ..., 0, 0, 0],\n",
       "       [0, 0, 0, ..., 0, 1, 0],\n",
       "       ...,\n",
       "       [0, 0, 0, ..., 0, 0, 0],\n",
       "       [0, 0, 0, ..., 1, 0, 0],\n",
       "       [0, 0, 0, ..., 0, 0, 0]])"
      ]
     },
     "execution_count": 52,
     "metadata": {},
     "output_type": "execute_result"
    }
   ],
   "source": [
    "predictions"
   ]
  },
  {
   "cell_type": "code",
   "execution_count": 53,
   "metadata": {},
   "outputs": [
    {
     "name": "stdout",
     "output_type": "stream",
     "text": [
      "225/225 [==============================] - 0s 2ms/step\n"
     ]
    }
   ],
   "source": [
    "predictions_lab = (model.predict(X_test) > 0.5).astype(\"int32\") "
   ]
  },
  {
   "cell_type": "code",
   "execution_count": 54,
   "metadata": {},
   "outputs": [
    {
     "data": {
      "text/plain": [
       "array([[0, 0, 0, ..., 0, 0, 1],\n",
       "       [1, 0, 0, ..., 0, 0, 0],\n",
       "       [0, 0, 0, ..., 0, 1, 0],\n",
       "       ...,\n",
       "       [0, 0, 0, ..., 0, 0, 0],\n",
       "       [0, 0, 0, ..., 1, 0, 0],\n",
       "       [0, 0, 0, ..., 0, 0, 0]])"
      ]
     },
     "execution_count": 54,
     "metadata": {},
     "output_type": "execute_result"
    }
   ],
   "source": [
    "predictions_lab #La etiqueta 0 es la primera categoría de la variable objetivo (Interest_Rate = 1) y así sucesivamente"
   ]
  },
  {
   "cell_type": "code",
   "execution_count": 55,
   "metadata": {},
   "outputs": [],
   "source": [
    "predictions_lab_real = predictions_lab+1"
   ]
  },
  {
   "cell_type": "code",
   "execution_count": 56,
   "metadata": {},
   "outputs": [
    {
     "data": {
      "text/plain": [
       "array([[1, 1, 1, ..., 1, 1, 2],\n",
       "       [2, 1, 1, ..., 1, 1, 1],\n",
       "       [1, 1, 1, ..., 1, 2, 1],\n",
       "       ...,\n",
       "       [1, 1, 1, ..., 1, 1, 1],\n",
       "       [1, 1, 1, ..., 2, 1, 1],\n",
       "       [1, 1, 1, ..., 1, 1, 1]])"
      ]
     },
     "execution_count": 56,
     "metadata": {},
     "output_type": "execute_result"
    }
   ],
   "source": [
    "predictions_lab_real"
   ]
  },
  {
   "cell_type": "code",
   "execution_count": 57,
   "metadata": {},
   "outputs": [],
   "source": [
    "df_test_lab = pd.DataFrame(y_test, columns = ['1','2','3','4','5','6','7','8','9'])"
   ]
  },
  {
   "cell_type": "code",
   "execution_count": 58,
   "metadata": {},
   "outputs": [
    {
     "data": {
      "text/html": [
       "<div>\n",
       "<style scoped>\n",
       "    .dataframe tbody tr th:only-of-type {\n",
       "        vertical-align: middle;\n",
       "    }\n",
       "\n",
       "    .dataframe tbody tr th {\n",
       "        vertical-align: top;\n",
       "    }\n",
       "\n",
       "    .dataframe thead th {\n",
       "        text-align: right;\n",
       "    }\n",
       "</style>\n",
       "<table border=\"1\" class=\"dataframe\">\n",
       "  <thead>\n",
       "    <tr style=\"text-align: right;\">\n",
       "      <th></th>\n",
       "      <th>1</th>\n",
       "      <th>2</th>\n",
       "      <th>3</th>\n",
       "      <th>4</th>\n",
       "      <th>5</th>\n",
       "      <th>6</th>\n",
       "      <th>7</th>\n",
       "      <th>8</th>\n",
       "      <th>9</th>\n",
       "    </tr>\n",
       "  </thead>\n",
       "  <tbody>\n",
       "    <tr>\n",
       "      <th>0</th>\n",
       "      <td>0</td>\n",
       "      <td>0</td>\n",
       "      <td>0</td>\n",
       "      <td>0</td>\n",
       "      <td>0</td>\n",
       "      <td>0</td>\n",
       "      <td>0</td>\n",
       "      <td>0</td>\n",
       "      <td>1</td>\n",
       "    </tr>\n",
       "    <tr>\n",
       "      <th>1</th>\n",
       "      <td>1</td>\n",
       "      <td>0</td>\n",
       "      <td>0</td>\n",
       "      <td>0</td>\n",
       "      <td>0</td>\n",
       "      <td>0</td>\n",
       "      <td>0</td>\n",
       "      <td>0</td>\n",
       "      <td>0</td>\n",
       "    </tr>\n",
       "    <tr>\n",
       "      <th>2</th>\n",
       "      <td>0</td>\n",
       "      <td>0</td>\n",
       "      <td>0</td>\n",
       "      <td>0</td>\n",
       "      <td>0</td>\n",
       "      <td>0</td>\n",
       "      <td>0</td>\n",
       "      <td>1</td>\n",
       "      <td>0</td>\n",
       "    </tr>\n",
       "    <tr>\n",
       "      <th>3</th>\n",
       "      <td>0</td>\n",
       "      <td>0</td>\n",
       "      <td>0</td>\n",
       "      <td>0</td>\n",
       "      <td>0</td>\n",
       "      <td>0</td>\n",
       "      <td>1</td>\n",
       "      <td>0</td>\n",
       "      <td>0</td>\n",
       "    </tr>\n",
       "    <tr>\n",
       "      <th>4</th>\n",
       "      <td>0</td>\n",
       "      <td>0</td>\n",
       "      <td>0</td>\n",
       "      <td>0</td>\n",
       "      <td>0</td>\n",
       "      <td>0</td>\n",
       "      <td>0</td>\n",
       "      <td>0</td>\n",
       "      <td>1</td>\n",
       "    </tr>\n",
       "    <tr>\n",
       "      <th>...</th>\n",
       "      <td>...</td>\n",
       "      <td>...</td>\n",
       "      <td>...</td>\n",
       "      <td>...</td>\n",
       "      <td>...</td>\n",
       "      <td>...</td>\n",
       "      <td>...</td>\n",
       "      <td>...</td>\n",
       "      <td>...</td>\n",
       "    </tr>\n",
       "    <tr>\n",
       "      <th>7195</th>\n",
       "      <td>0</td>\n",
       "      <td>0</td>\n",
       "      <td>0</td>\n",
       "      <td>0</td>\n",
       "      <td>0</td>\n",
       "      <td>0</td>\n",
       "      <td>0</td>\n",
       "      <td>1</td>\n",
       "      <td>0</td>\n",
       "    </tr>\n",
       "    <tr>\n",
       "      <th>7196</th>\n",
       "      <td>1</td>\n",
       "      <td>0</td>\n",
       "      <td>0</td>\n",
       "      <td>0</td>\n",
       "      <td>0</td>\n",
       "      <td>0</td>\n",
       "      <td>0</td>\n",
       "      <td>0</td>\n",
       "      <td>0</td>\n",
       "    </tr>\n",
       "    <tr>\n",
       "      <th>7197</th>\n",
       "      <td>0</td>\n",
       "      <td>0</td>\n",
       "      <td>0</td>\n",
       "      <td>1</td>\n",
       "      <td>0</td>\n",
       "      <td>0</td>\n",
       "      <td>0</td>\n",
       "      <td>0</td>\n",
       "      <td>0</td>\n",
       "    </tr>\n",
       "    <tr>\n",
       "      <th>7198</th>\n",
       "      <td>0</td>\n",
       "      <td>0</td>\n",
       "      <td>0</td>\n",
       "      <td>0</td>\n",
       "      <td>0</td>\n",
       "      <td>0</td>\n",
       "      <td>1</td>\n",
       "      <td>0</td>\n",
       "      <td>0</td>\n",
       "    </tr>\n",
       "    <tr>\n",
       "      <th>7199</th>\n",
       "      <td>0</td>\n",
       "      <td>0</td>\n",
       "      <td>0</td>\n",
       "      <td>1</td>\n",
       "      <td>0</td>\n",
       "      <td>0</td>\n",
       "      <td>0</td>\n",
       "      <td>0</td>\n",
       "      <td>0</td>\n",
       "    </tr>\n",
       "  </tbody>\n",
       "</table>\n",
       "<p>7200 rows × 9 columns</p>\n",
       "</div>"
      ],
      "text/plain": [
       "      1  2  3  4  5  6  7  8  9\n",
       "0     0  0  0  0  0  0  0  0  1\n",
       "1     1  0  0  0  0  0  0  0  0\n",
       "2     0  0  0  0  0  0  0  1  0\n",
       "3     0  0  0  0  0  0  1  0  0\n",
       "4     0  0  0  0  0  0  0  0  1\n",
       "...  .. .. .. .. .. .. .. .. ..\n",
       "7195  0  0  0  0  0  0  0  1  0\n",
       "7196  1  0  0  0  0  0  0  0  0\n",
       "7197  0  0  0  1  0  0  0  0  0\n",
       "7198  0  0  0  0  0  0  1  0  0\n",
       "7199  0  0  0  1  0  0  0  0  0\n",
       "\n",
       "[7200 rows x 9 columns]"
      ]
     },
     "execution_count": 58,
     "metadata": {},
     "output_type": "execute_result"
    }
   ],
   "source": [
    "df_test_lab"
   ]
  },
  {
   "cell_type": "code",
   "execution_count": 59,
   "metadata": {},
   "outputs": [],
   "source": [
    "df_test_lab[\"Clase Real\"]=np.where(df_test_lab[\"1\"]==1,1,\n",
    "                                   np.where(df_test_lab[\"2\"]==1,2,\n",
    "                                            np.where(df_test_lab[\"3\"]==1,3,\n",
    "                                                    np.where(df_test_lab[\"4\"]==1,4,\n",
    "                                                            np.where(df_test_lab[\"5\"]==1,5,\n",
    "                                                                    np.where(df_test_lab[\"6\"]==1,6,\n",
    "                                                                            np.where(df_test_lab[\"7\"]==1,7,\n",
    "                                                                                    np.where(df_test_lab[\"8\"]==1,8,9))))))))"
   ]
  },
  {
   "cell_type": "code",
   "execution_count": 60,
   "metadata": {},
   "outputs": [
    {
     "data": {
      "text/plain": [
       "0       9\n",
       "1       1\n",
       "2       8\n",
       "3       7\n",
       "4       9\n",
       "       ..\n",
       "7195    8\n",
       "7196    1\n",
       "7197    4\n",
       "7198    7\n",
       "7199    4\n",
       "Name: Clase Real, Length: 7200, dtype: int32"
      ]
     },
     "execution_count": 60,
     "metadata": {},
     "output_type": "execute_result"
    }
   ],
   "source": [
    "df_test_lab[\"Clase Real\"]"
   ]
  },
  {
   "cell_type": "markdown",
   "metadata": {
    "tags": []
   },
   "source": [
    "## Predicción sobre nuevos datos"
   ]
  },
  {
   "cell_type": "markdown",
   "metadata": {},
   "source": [
    "# ACA PARA LA PREDICCION SE QUITARA LOS DE VIGILANCIA 0 DADO QUE EL RESULTADO ES LOGICO (SIN CONTROL)"
   ]
  },
  {
   "cell_type": "code",
   "execution_count": 61,
   "metadata": {},
   "outputs": [
    {
     "data": {
      "text/html": [
       "<div>\n",
       "<style scoped>\n",
       "    .dataframe tbody tr th:only-of-type {\n",
       "        vertical-align: middle;\n",
       "    }\n",
       "\n",
       "    .dataframe tbody tr th {\n",
       "        vertical-align: top;\n",
       "    }\n",
       "\n",
       "    .dataframe thead th {\n",
       "        text-align: right;\n",
       "    }\n",
       "</style>\n",
       "<table border=\"1\" class=\"dataframe\">\n",
       "  <thead>\n",
       "    <tr style=\"text-align: right;\">\n",
       "      <th></th>\n",
       "      <th>Id</th>\n",
       "      <th>RUP</th>\n",
       "      <th>Oficina</th>\n",
       "      <th>CoordenadaX</th>\n",
       "      <th>CoordenadaY</th>\n",
       "      <th>Huso</th>\n",
       "      <th>Latitud</th>\n",
       "      <th>Longitud</th>\n",
       "      <th>Peso Nivel Contagio</th>\n",
       "      <th>Peso Masa Entrada</th>\n",
       "      <th>...</th>\n",
       "      <th>ProtocoloPc</th>\n",
       "      <th>NegativosPc</th>\n",
       "      <th>PositivosPc</th>\n",
       "      <th>TodosNegativosLab</th>\n",
       "      <th>AlMenosUnPositivoLab</th>\n",
       "      <th>TodosNegativosPc</th>\n",
       "      <th>AlMenosUnPositivoPc</th>\n",
       "      <th>ClasificacionSanitaria</th>\n",
       "      <th>RiesgoMovimiento</th>\n",
       "      <th>TextoRiesgo</th>\n",
       "    </tr>\n",
       "  </thead>\n",
       "  <tbody>\n",
       "    <tr>\n",
       "      <th>0</th>\n",
       "      <td>40011</td>\n",
       "      <td>09.2.06.0178</td>\n",
       "      <td>51</td>\n",
       "      <td>704462.0</td>\n",
       "      <td>5780544.0</td>\n",
       "      <td>18.0</td>\n",
       "      <td>-38.100460</td>\n",
       "      <td>-72.668583</td>\n",
       "      <td>5</td>\n",
       "      <td>1</td>\n",
       "      <td>...</td>\n",
       "      <td>186129</td>\n",
       "      <td>1</td>\n",
       "      <td>0</td>\n",
       "      <td>0</td>\n",
       "      <td>0</td>\n",
       "      <td>1</td>\n",
       "      <td>0</td>\n",
       "      <td>1.0</td>\n",
       "      <td>NaN</td>\n",
       "      <td>NaN</td>\n",
       "    </tr>\n",
       "    <tr>\n",
       "      <th>1</th>\n",
       "      <td>35837</td>\n",
       "      <td>09.2.10.0495</td>\n",
       "      <td>52</td>\n",
       "      <td>702969.0</td>\n",
       "      <td>5770696.0</td>\n",
       "      <td>18.0</td>\n",
       "      <td>-38.189481</td>\n",
       "      <td>-72.682792</td>\n",
       "      <td>5</td>\n",
       "      <td>1</td>\n",
       "      <td>...</td>\n",
       "      <td>187606</td>\n",
       "      <td>38</td>\n",
       "      <td>0</td>\n",
       "      <td>0</td>\n",
       "      <td>0</td>\n",
       "      <td>1</td>\n",
       "      <td>0</td>\n",
       "      <td>NaN</td>\n",
       "      <td>NaN</td>\n",
       "      <td>NaN</td>\n",
       "    </tr>\n",
       "    <tr>\n",
       "      <th>2</th>\n",
       "      <td>89013</td>\n",
       "      <td>09.1.03.0160</td>\n",
       "      <td>48</td>\n",
       "      <td>745198.0</td>\n",
       "      <td>5678277.0</td>\n",
       "      <td>18.0</td>\n",
       "      <td>-39.010849</td>\n",
       "      <td>-72.168567</td>\n",
       "      <td>5</td>\n",
       "      <td>1</td>\n",
       "      <td>...</td>\n",
       "      <td>199203</td>\n",
       "      <td>129</td>\n",
       "      <td>0</td>\n",
       "      <td>0</td>\n",
       "      <td>0</td>\n",
       "      <td>1</td>\n",
       "      <td>0</td>\n",
       "      <td>1.0</td>\n",
       "      <td>NaN</td>\n",
       "      <td>NaN</td>\n",
       "    </tr>\n",
       "    <tr>\n",
       "      <th>3</th>\n",
       "      <td>63532</td>\n",
       "      <td>09.1.05.0471</td>\n",
       "      <td>48</td>\n",
       "      <td>710615.0</td>\n",
       "      <td>5687635.0</td>\n",
       "      <td>18.0</td>\n",
       "      <td>-38.935606</td>\n",
       "      <td>-72.570490</td>\n",
       "      <td>10</td>\n",
       "      <td>3</td>\n",
       "      <td>...</td>\n",
       "      <td>206510</td>\n",
       "      <td>851</td>\n",
       "      <td>0</td>\n",
       "      <td>0</td>\n",
       "      <td>0</td>\n",
       "      <td>1</td>\n",
       "      <td>0</td>\n",
       "      <td>1.0</td>\n",
       "      <td>NaN</td>\n",
       "      <td>NaN</td>\n",
       "    </tr>\n",
       "    <tr>\n",
       "      <th>4</th>\n",
       "      <td>55205</td>\n",
       "      <td>09.1.05.0848</td>\n",
       "      <td>48</td>\n",
       "      <td>728011.0</td>\n",
       "      <td>5695604.0</td>\n",
       "      <td>18.0</td>\n",
       "      <td>-38.859521</td>\n",
       "      <td>-72.372626</td>\n",
       "      <td>10</td>\n",
       "      <td>1</td>\n",
       "      <td>...</td>\n",
       "      <td>202040</td>\n",
       "      <td>260</td>\n",
       "      <td>0</td>\n",
       "      <td>0</td>\n",
       "      <td>0</td>\n",
       "      <td>1</td>\n",
       "      <td>0</td>\n",
       "      <td>1.0</td>\n",
       "      <td>NaN</td>\n",
       "      <td>NaN</td>\n",
       "    </tr>\n",
       "  </tbody>\n",
       "</table>\n",
       "<p>5 rows × 25 columns</p>\n",
       "</div>"
      ],
      "text/plain": [
       "      Id           RUP  Oficina  CoordenadaX  CoordenadaY  Huso    Latitud  \\\n",
       "0  40011  09.2.06.0178       51     704462.0    5780544.0  18.0 -38.100460   \n",
       "1  35837  09.2.10.0495       52     702969.0    5770696.0  18.0 -38.189481   \n",
       "2  89013  09.1.03.0160       48     745198.0    5678277.0  18.0 -39.010849   \n",
       "3  63532  09.1.05.0471       48     710615.0    5687635.0  18.0 -38.935606   \n",
       "4  55205  09.1.05.0848       48     728011.0    5695604.0  18.0 -38.859521   \n",
       "\n",
       "    Longitud  Peso Nivel Contagio  Peso Masa Entrada  ...  ProtocoloPc  \\\n",
       "0 -72.668583                    5                  1  ...       186129   \n",
       "1 -72.682792                    5                  1  ...       187606   \n",
       "2 -72.168567                    5                  1  ...       199203   \n",
       "3 -72.570490                   10                  3  ...       206510   \n",
       "4 -72.372626                   10                  1  ...       202040   \n",
       "\n",
       "    NegativosPc   PositivosPc  TodosNegativosLab  AlMenosUnPositivoLab  \\\n",
       "0             1             0                  0                     0   \n",
       "1            38             0                  0                     0   \n",
       "2           129             0                  0                     0   \n",
       "3           851             0                  0                     0   \n",
       "4           260             0                  0                     0   \n",
       "\n",
       "   TodosNegativosPc  AlMenosUnPositivoPc  ClasificacionSanitaria  \\\n",
       "0                 1                    0                     1.0   \n",
       "1                 1                    0                     NaN   \n",
       "2                 1                    0                     1.0   \n",
       "3                 1                    0                     1.0   \n",
       "4                 1                    0                     1.0   \n",
       "\n",
       "    RiesgoMovimiento   TextoRiesgo  \n",
       "0                NaN           NaN  \n",
       "1                NaN           NaN  \n",
       "2                NaN           NaN  \n",
       "3                NaN           NaN  \n",
       "4                NaN           NaN  \n",
       "\n",
       "[5 rows x 25 columns]"
      ]
     },
     "execution_count": 61,
     "metadata": {},
     "output_type": "execute_result"
    }
   ],
   "source": [
    "df_pred = pd.read_excel('./Region9.xlsx')\n",
    "#df_pred = df_pred[df.columns]\n",
    "\n",
    "df_pred.head()"
   ]
  },
  {
   "cell_type": "code",
   "execution_count": 62,
   "metadata": {},
   "outputs": [],
   "source": [
    "df_pred_real = df_pred.drop(['CoordenadaX','CoordenadaY','Huso',' TextoRiesgo','ClasificacionSanitaria',\n",
    "             'Latitud','Longitud','ProtocoloLab','ProtocoloPc',' NegativosPc',\n",
    "             'NegativosLab','PositivosLab',' PositivosPc','Id','Oficina',' TextoRiesgo','RUP'],axis=1)"
   ]
  },
  {
   "cell_type": "code",
   "execution_count": 63,
   "metadata": {},
   "outputs": [
    {
     "data": {
      "text/html": [
       "<div>\n",
       "<style scoped>\n",
       "    .dataframe tbody tr th:only-of-type {\n",
       "        vertical-align: middle;\n",
       "    }\n",
       "\n",
       "    .dataframe tbody tr th {\n",
       "        vertical-align: top;\n",
       "    }\n",
       "\n",
       "    .dataframe thead th {\n",
       "        text-align: right;\n",
       "    }\n",
       "</style>\n",
       "<table border=\"1\" class=\"dataframe\">\n",
       "  <thead>\n",
       "    <tr style=\"text-align: right;\">\n",
       "      <th></th>\n",
       "      <th>Peso Nivel Contagio</th>\n",
       "      <th>Peso Masa Entrada</th>\n",
       "      <th>Peso Masa Salida</th>\n",
       "      <th>Nivel Vigilancia</th>\n",
       "      <th>TodosNegativosLab</th>\n",
       "      <th>AlMenosUnPositivoLab</th>\n",
       "      <th>TodosNegativosPc</th>\n",
       "      <th>AlMenosUnPositivoPc</th>\n",
       "      <th>RiesgoMovimiento</th>\n",
       "    </tr>\n",
       "  </thead>\n",
       "  <tbody>\n",
       "    <tr>\n",
       "      <th>0</th>\n",
       "      <td>5</td>\n",
       "      <td>1</td>\n",
       "      <td>1</td>\n",
       "      <td>2</td>\n",
       "      <td>0</td>\n",
       "      <td>0</td>\n",
       "      <td>1</td>\n",
       "      <td>0</td>\n",
       "      <td>NaN</td>\n",
       "    </tr>\n",
       "    <tr>\n",
       "      <th>1</th>\n",
       "      <td>5</td>\n",
       "      <td>1</td>\n",
       "      <td>3</td>\n",
       "      <td>1</td>\n",
       "      <td>0</td>\n",
       "      <td>0</td>\n",
       "      <td>1</td>\n",
       "      <td>0</td>\n",
       "      <td>NaN</td>\n",
       "    </tr>\n",
       "    <tr>\n",
       "      <th>2</th>\n",
       "      <td>5</td>\n",
       "      <td>1</td>\n",
       "      <td>7</td>\n",
       "      <td>3</td>\n",
       "      <td>0</td>\n",
       "      <td>0</td>\n",
       "      <td>1</td>\n",
       "      <td>0</td>\n",
       "      <td>NaN</td>\n",
       "    </tr>\n",
       "    <tr>\n",
       "      <th>3</th>\n",
       "      <td>10</td>\n",
       "      <td>3</td>\n",
       "      <td>7</td>\n",
       "      <td>3</td>\n",
       "      <td>0</td>\n",
       "      <td>0</td>\n",
       "      <td>1</td>\n",
       "      <td>0</td>\n",
       "      <td>NaN</td>\n",
       "    </tr>\n",
       "    <tr>\n",
       "      <th>4</th>\n",
       "      <td>10</td>\n",
       "      <td>1</td>\n",
       "      <td>3</td>\n",
       "      <td>3</td>\n",
       "      <td>0</td>\n",
       "      <td>0</td>\n",
       "      <td>1</td>\n",
       "      <td>0</td>\n",
       "      <td>NaN</td>\n",
       "    </tr>\n",
       "  </tbody>\n",
       "</table>\n",
       "</div>"
      ],
      "text/plain": [
       "   Peso Nivel Contagio  Peso Masa Entrada  Peso Masa Salida  Nivel Vigilancia  \\\n",
       "0                    5                  1                 1                 2   \n",
       "1                    5                  1                 3                 1   \n",
       "2                    5                  1                 7                 3   \n",
       "3                   10                  3                 7                 3   \n",
       "4                   10                  1                 3                 3   \n",
       "\n",
       "   TodosNegativosLab  AlMenosUnPositivoLab  TodosNegativosPc  \\\n",
       "0                  0                     0                 1   \n",
       "1                  0                     0                 1   \n",
       "2                  0                     0                 1   \n",
       "3                  0                     0                 1   \n",
       "4                  0                     0                 1   \n",
       "\n",
       "   AlMenosUnPositivoPc   RiesgoMovimiento  \n",
       "0                    0                NaN  \n",
       "1                    0                NaN  \n",
       "2                    0                NaN  \n",
       "3                    0                NaN  \n",
       "4                    0                NaN  "
      ]
     },
     "execution_count": 63,
     "metadata": {},
     "output_type": "execute_result"
    }
   ],
   "source": [
    "df_pred_real.head()"
   ]
  },
  {
   "cell_type": "code",
   "execution_count": 64,
   "metadata": {},
   "outputs": [],
   "source": [
    "#dummies_pred = pd.get_dummies(df_pred[['Nivel Vigilancia']]) #se puede añadir drop_first=True evita redundancia y evita crear una columna por cada variable\n",
    "#df_post_pred = pd.concat([df_pred,dummies_pred],axis=1)\n",
    "#df_post_pred = df_post_pred.drop(['Nivel Vigilancia'],axis=1) #Eliminamos las columnas originales\n",
    "df_post_pred =  pd.concat([df_pred_real],axis=1)"
   ]
  },
  {
   "cell_type": "code",
   "execution_count": 65,
   "metadata": {},
   "outputs": [
    {
     "data": {
      "text/html": [
       "<div>\n",
       "<style scoped>\n",
       "    .dataframe tbody tr th:only-of-type {\n",
       "        vertical-align: middle;\n",
       "    }\n",
       "\n",
       "    .dataframe tbody tr th {\n",
       "        vertical-align: top;\n",
       "    }\n",
       "\n",
       "    .dataframe thead th {\n",
       "        text-align: right;\n",
       "    }\n",
       "</style>\n",
       "<table border=\"1\" class=\"dataframe\">\n",
       "  <thead>\n",
       "    <tr style=\"text-align: right;\">\n",
       "      <th></th>\n",
       "      <th>Peso Nivel Contagio</th>\n",
       "      <th>Peso Masa Entrada</th>\n",
       "      <th>Peso Masa Salida</th>\n",
       "      <th>Nivel Vigilancia</th>\n",
       "      <th>TodosNegativosLab</th>\n",
       "      <th>AlMenosUnPositivoLab</th>\n",
       "      <th>TodosNegativosPc</th>\n",
       "      <th>AlMenosUnPositivoPc</th>\n",
       "      <th>RiesgoMovimiento</th>\n",
       "    </tr>\n",
       "  </thead>\n",
       "  <tbody>\n",
       "    <tr>\n",
       "      <th>0</th>\n",
       "      <td>5</td>\n",
       "      <td>1</td>\n",
       "      <td>1</td>\n",
       "      <td>2</td>\n",
       "      <td>0</td>\n",
       "      <td>0</td>\n",
       "      <td>1</td>\n",
       "      <td>0</td>\n",
       "      <td>NaN</td>\n",
       "    </tr>\n",
       "    <tr>\n",
       "      <th>1</th>\n",
       "      <td>5</td>\n",
       "      <td>1</td>\n",
       "      <td>3</td>\n",
       "      <td>1</td>\n",
       "      <td>0</td>\n",
       "      <td>0</td>\n",
       "      <td>1</td>\n",
       "      <td>0</td>\n",
       "      <td>NaN</td>\n",
       "    </tr>\n",
       "    <tr>\n",
       "      <th>2</th>\n",
       "      <td>5</td>\n",
       "      <td>1</td>\n",
       "      <td>7</td>\n",
       "      <td>3</td>\n",
       "      <td>0</td>\n",
       "      <td>0</td>\n",
       "      <td>1</td>\n",
       "      <td>0</td>\n",
       "      <td>NaN</td>\n",
       "    </tr>\n",
       "    <tr>\n",
       "      <th>3</th>\n",
       "      <td>10</td>\n",
       "      <td>3</td>\n",
       "      <td>7</td>\n",
       "      <td>3</td>\n",
       "      <td>0</td>\n",
       "      <td>0</td>\n",
       "      <td>1</td>\n",
       "      <td>0</td>\n",
       "      <td>NaN</td>\n",
       "    </tr>\n",
       "    <tr>\n",
       "      <th>4</th>\n",
       "      <td>10</td>\n",
       "      <td>1</td>\n",
       "      <td>3</td>\n",
       "      <td>3</td>\n",
       "      <td>0</td>\n",
       "      <td>0</td>\n",
       "      <td>1</td>\n",
       "      <td>0</td>\n",
       "      <td>NaN</td>\n",
       "    </tr>\n",
       "  </tbody>\n",
       "</table>\n",
       "</div>"
      ],
      "text/plain": [
       "   Peso Nivel Contagio  Peso Masa Entrada  Peso Masa Salida  Nivel Vigilancia  \\\n",
       "0                    5                  1                 1                 2   \n",
       "1                    5                  1                 3                 1   \n",
       "2                    5                  1                 7                 3   \n",
       "3                   10                  3                 7                 3   \n",
       "4                   10                  1                 3                 3   \n",
       "\n",
       "   TodosNegativosLab  AlMenosUnPositivoLab  TodosNegativosPc  \\\n",
       "0                  0                     0                 1   \n",
       "1                  0                     0                 1   \n",
       "2                  0                     0                 1   \n",
       "3                  0                     0                 1   \n",
       "4                  0                     0                 1   \n",
       "\n",
       "   AlMenosUnPositivoPc   RiesgoMovimiento  \n",
       "0                    0                NaN  \n",
       "1                    0                NaN  \n",
       "2                    0                NaN  \n",
       "3                    0                NaN  \n",
       "4                    0                NaN  "
      ]
     },
     "execution_count": 65,
     "metadata": {},
     "output_type": "execute_result"
    }
   ],
   "source": [
    "df_post_pred.head()"
   ]
  },
  {
   "cell_type": "code",
   "execution_count": 66,
   "metadata": {},
   "outputs": [
    {
     "name": "stderr",
     "output_type": "stream",
     "text": [
      "C:\\Users\\pedro\\anaconda3\\lib\\site-packages\\sklearn\\base.py:443: UserWarning: X has feature names, but MinMaxScaler was fitted without feature names\n",
      "  warnings.warn(\n"
     ]
    }
   ],
   "source": [
    "X_pred = df_post_pred.drop(' RiesgoMovimiento',axis=1)\n",
    "\n",
    "X_pred = scaler.transform(X_pred)"
   ]
  },
  {
   "cell_type": "code",
   "execution_count": 67,
   "metadata": {},
   "outputs": [
    {
     "data": {
      "text/plain": [
       "array([[0.44444444, 0.        , 0.        , ..., 0.        , 1.        ,\n",
       "        0.        ],\n",
       "       [0.44444444, 0.        , 0.22222222, ..., 0.        , 1.        ,\n",
       "        0.        ],\n",
       "       [0.44444444, 0.        , 0.66666667, ..., 0.        , 1.        ,\n",
       "        0.        ],\n",
       "       ...,\n",
       "       [0.        , 0.        , 0.        , ..., 0.        , 1.        ,\n",
       "        0.        ],\n",
       "       [1.        , 1.        , 1.        , ..., 0.        , 1.        ,\n",
       "        0.        ],\n",
       "       [1.        , 0.        , 0.        , ..., 0.        , 1.        ,\n",
       "        0.        ]])"
      ]
     },
     "execution_count": 67,
     "metadata": {},
     "output_type": "execute_result"
    }
   ],
   "source": [
    "X_pred"
   ]
  },
  {
   "cell_type": "code",
   "execution_count": 68,
   "metadata": {},
   "outputs": [
    {
     "name": "stdout",
     "output_type": "stream",
     "text": [
      "8/8 [==============================] - 0s 2ms/step\n"
     ]
    },
    {
     "data": {
      "text/plain": [
       "array([[0, 0, 1, ..., 0, 0, 0],\n",
       "       [0, 0, 0, ..., 0, 0, 0],\n",
       "       [0, 1, 0, ..., 0, 0, 0],\n",
       "       ...,\n",
       "       [0, 0, 0, ..., 0, 0, 0],\n",
       "       [0, 1, 0, ..., 0, 0, 0],\n",
       "       [0, 0, 1, ..., 0, 0, 0]])"
      ]
     },
     "execution_count": 68,
     "metadata": {},
     "output_type": "execute_result"
    }
   ],
   "source": [
    "#resultado = np.round(model.predict(X_pred))\n",
    "resultado = (model.predict(X_pred) > 0.5).astype(\"int32\") \n",
    "resultado\n",
    "#resultado = np.argmax(model.predict(X_pred), axis=-1)\n",
    "#resultado"
   ]
  },
  {
   "cell_type": "code",
   "execution_count": 69,
   "metadata": {},
   "outputs": [],
   "source": [
    "df_lab = pd.DataFrame(resultado, columns = ['1','2','3','4','5','6','7','8','9'])"
   ]
  },
  {
   "cell_type": "code",
   "execution_count": 70,
   "metadata": {},
   "outputs": [],
   "source": [
    "df_pred['PREDICCION']=np.where(df_lab[\"1\"]==1,1,\n",
    "                                   np.where(df_lab[\"2\"]==1,2,\n",
    "                                            np.where(df_lab[\"3\"]==1,3,\n",
    "                                                    np.where(df_lab[\"4\"]==1,4,\n",
    "                                                            np.where(df_lab[\"5\"]==1,5,\n",
    "                                                                    np.where(df_lab[\"6\"]==1,6,\n",
    "                                                                            np.where(df_lab[\"7\"]==1,7,\n",
    "                                                                                    np.where(df_lab[\"8\"]==1,8,9))))))))"
   ]
  },
  {
   "cell_type": "code",
   "execution_count": 97,
   "metadata": {},
   "outputs": [
    {
     "data": {
      "text/html": [
       "<div>\n",
       "<style scoped>\n",
       "    .dataframe tbody tr th:only-of-type {\n",
       "        vertical-align: middle;\n",
       "    }\n",
       "\n",
       "    .dataframe tbody tr th {\n",
       "        vertical-align: top;\n",
       "    }\n",
       "\n",
       "    .dataframe thead th {\n",
       "        text-align: right;\n",
       "    }\n",
       "</style>\n",
       "<table border=\"1\" class=\"dataframe\">\n",
       "  <thead>\n",
       "    <tr style=\"text-align: right;\">\n",
       "      <th></th>\n",
       "      <th>Id</th>\n",
       "      <th>RUP</th>\n",
       "      <th>Oficina</th>\n",
       "      <th>CoordenadaX</th>\n",
       "      <th>CoordenadaY</th>\n",
       "      <th>Huso</th>\n",
       "      <th>Latitud</th>\n",
       "      <th>Longitud</th>\n",
       "      <th>Peso Nivel Contagio</th>\n",
       "      <th>Peso Masa Entrada</th>\n",
       "      <th>...</th>\n",
       "      <th>PositivosPc</th>\n",
       "      <th>TodosNegativosLab</th>\n",
       "      <th>AlMenosUnPositivoLab</th>\n",
       "      <th>TodosNegativosPc</th>\n",
       "      <th>AlMenosUnPositivoPc</th>\n",
       "      <th>ClasificacionSanitaria</th>\n",
       "      <th>RiesgoMovimiento</th>\n",
       "      <th>TextoRiesgo</th>\n",
       "      <th>PREDICCION</th>\n",
       "      <th>geometry</th>\n",
       "    </tr>\n",
       "  </thead>\n",
       "  <tbody>\n",
       "    <tr>\n",
       "      <th>0</th>\n",
       "      <td>40011</td>\n",
       "      <td>09.2.06.0178</td>\n",
       "      <td>51</td>\n",
       "      <td>704462.0</td>\n",
       "      <td>5780544.0</td>\n",
       "      <td>18.0</td>\n",
       "      <td>-38.100460</td>\n",
       "      <td>-72.668583</td>\n",
       "      <td>5</td>\n",
       "      <td>1</td>\n",
       "      <td>...</td>\n",
       "      <td>0</td>\n",
       "      <td>0</td>\n",
       "      <td>0</td>\n",
       "      <td>1</td>\n",
       "      <td>0</td>\n",
       "      <td>1.0</td>\n",
       "      <td>NaN</td>\n",
       "      <td>NaN</td>\n",
       "      <td>3</td>\n",
       "      <td>POINT (-72.66858 -38.10046)</td>\n",
       "    </tr>\n",
       "    <tr>\n",
       "      <th>1</th>\n",
       "      <td>35837</td>\n",
       "      <td>09.2.10.0495</td>\n",
       "      <td>52</td>\n",
       "      <td>702969.0</td>\n",
       "      <td>5770696.0</td>\n",
       "      <td>18.0</td>\n",
       "      <td>-38.189481</td>\n",
       "      <td>-72.682792</td>\n",
       "      <td>5</td>\n",
       "      <td>1</td>\n",
       "      <td>...</td>\n",
       "      <td>0</td>\n",
       "      <td>0</td>\n",
       "      <td>0</td>\n",
       "      <td>1</td>\n",
       "      <td>0</td>\n",
       "      <td>NaN</td>\n",
       "      <td>NaN</td>\n",
       "      <td>NaN</td>\n",
       "      <td>6</td>\n",
       "      <td>POINT (-72.68279 -38.18948)</td>\n",
       "    </tr>\n",
       "    <tr>\n",
       "      <th>2</th>\n",
       "      <td>89013</td>\n",
       "      <td>09.1.03.0160</td>\n",
       "      <td>48</td>\n",
       "      <td>745198.0</td>\n",
       "      <td>5678277.0</td>\n",
       "      <td>18.0</td>\n",
       "      <td>-39.010849</td>\n",
       "      <td>-72.168567</td>\n",
       "      <td>5</td>\n",
       "      <td>1</td>\n",
       "      <td>...</td>\n",
       "      <td>0</td>\n",
       "      <td>0</td>\n",
       "      <td>0</td>\n",
       "      <td>1</td>\n",
       "      <td>0</td>\n",
       "      <td>1.0</td>\n",
       "      <td>NaN</td>\n",
       "      <td>NaN</td>\n",
       "      <td>2</td>\n",
       "      <td>POINT (-72.16857 -39.01085)</td>\n",
       "    </tr>\n",
       "    <tr>\n",
       "      <th>3</th>\n",
       "      <td>63532</td>\n",
       "      <td>09.1.05.0471</td>\n",
       "      <td>48</td>\n",
       "      <td>710615.0</td>\n",
       "      <td>5687635.0</td>\n",
       "      <td>18.0</td>\n",
       "      <td>-38.935606</td>\n",
       "      <td>-72.570490</td>\n",
       "      <td>10</td>\n",
       "      <td>3</td>\n",
       "      <td>...</td>\n",
       "      <td>0</td>\n",
       "      <td>0</td>\n",
       "      <td>0</td>\n",
       "      <td>1</td>\n",
       "      <td>0</td>\n",
       "      <td>1.0</td>\n",
       "      <td>NaN</td>\n",
       "      <td>NaN</td>\n",
       "      <td>2</td>\n",
       "      <td>POINT (-72.57049 -38.93561)</td>\n",
       "    </tr>\n",
       "    <tr>\n",
       "      <th>4</th>\n",
       "      <td>55205</td>\n",
       "      <td>09.1.05.0848</td>\n",
       "      <td>48</td>\n",
       "      <td>728011.0</td>\n",
       "      <td>5695604.0</td>\n",
       "      <td>18.0</td>\n",
       "      <td>-38.859521</td>\n",
       "      <td>-72.372626</td>\n",
       "      <td>10</td>\n",
       "      <td>1</td>\n",
       "      <td>...</td>\n",
       "      <td>0</td>\n",
       "      <td>0</td>\n",
       "      <td>0</td>\n",
       "      <td>1</td>\n",
       "      <td>0</td>\n",
       "      <td>1.0</td>\n",
       "      <td>NaN</td>\n",
       "      <td>NaN</td>\n",
       "      <td>1</td>\n",
       "      <td>POINT (-72.37263 -38.85952)</td>\n",
       "    </tr>\n",
       "    <tr>\n",
       "      <th>...</th>\n",
       "      <td>...</td>\n",
       "      <td>...</td>\n",
       "      <td>...</td>\n",
       "      <td>...</td>\n",
       "      <td>...</td>\n",
       "      <td>...</td>\n",
       "      <td>...</td>\n",
       "      <td>...</td>\n",
       "      <td>...</td>\n",
       "      <td>...</td>\n",
       "      <td>...</td>\n",
       "      <td>...</td>\n",
       "      <td>...</td>\n",
       "      <td>...</td>\n",
       "      <td>...</td>\n",
       "      <td>...</td>\n",
       "      <td>...</td>\n",
       "      <td>...</td>\n",
       "      <td>...</td>\n",
       "      <td>...</td>\n",
       "      <td>...</td>\n",
       "    </tr>\n",
       "    <tr>\n",
       "      <th>223</th>\n",
       "      <td>38504</td>\n",
       "      <td>09.1.20.0030</td>\n",
       "      <td>50</td>\n",
       "      <td>736666.0</td>\n",
       "      <td>5646118.0</td>\n",
       "      <td>18.0</td>\n",
       "      <td>-39.302655</td>\n",
       "      <td>-72.255766</td>\n",
       "      <td>10</td>\n",
       "      <td>1</td>\n",
       "      <td>...</td>\n",
       "      <td>0</td>\n",
       "      <td>0</td>\n",
       "      <td>0</td>\n",
       "      <td>1</td>\n",
       "      <td>0</td>\n",
       "      <td>1.0</td>\n",
       "      <td>NaN</td>\n",
       "      <td>NaN</td>\n",
       "      <td>3</td>\n",
       "      <td>POINT (-72.25577 -39.30266)</td>\n",
       "    </tr>\n",
       "    <tr>\n",
       "      <th>224</th>\n",
       "      <td>51225</td>\n",
       "      <td>09.1.07.0083</td>\n",
       "      <td>50</td>\n",
       "      <td>708055.0</td>\n",
       "      <td>5668049.0</td>\n",
       "      <td>18.0</td>\n",
       "      <td>-39.112557</td>\n",
       "      <td>-72.594026</td>\n",
       "      <td>10</td>\n",
       "      <td>1</td>\n",
       "      <td>...</td>\n",
       "      <td>0</td>\n",
       "      <td>0</td>\n",
       "      <td>0</td>\n",
       "      <td>1</td>\n",
       "      <td>0</td>\n",
       "      <td>NaN</td>\n",
       "      <td>NaN</td>\n",
       "      <td>NaN</td>\n",
       "      <td>3</td>\n",
       "      <td>POINT (-72.59403 -39.11256)</td>\n",
       "    </tr>\n",
       "    <tr>\n",
       "      <th>225</th>\n",
       "      <td>123137</td>\n",
       "      <td>09.1.09.1371</td>\n",
       "      <td>50</td>\n",
       "      <td>721373.0</td>\n",
       "      <td>5640972.0</td>\n",
       "      <td>18.0</td>\n",
       "      <td>-39.353023</td>\n",
       "      <td>-72.431252</td>\n",
       "      <td>1</td>\n",
       "      <td>1</td>\n",
       "      <td>...</td>\n",
       "      <td>0</td>\n",
       "      <td>0</td>\n",
       "      <td>0</td>\n",
       "      <td>1</td>\n",
       "      <td>0</td>\n",
       "      <td>NaN</td>\n",
       "      <td>NaN</td>\n",
       "      <td>NaN</td>\n",
       "      <td>5</td>\n",
       "      <td>POINT (-72.43125 -39.35302)</td>\n",
       "    </tr>\n",
       "    <tr>\n",
       "      <th>226</th>\n",
       "      <td>339912</td>\n",
       "      <td>09.1.09.2040</td>\n",
       "      <td>50</td>\n",
       "      <td>706451.0</td>\n",
       "      <td>5639723.0</td>\n",
       "      <td>18.0</td>\n",
       "      <td>-39.367961</td>\n",
       "      <td>-72.603897</td>\n",
       "      <td>10</td>\n",
       "      <td>10</td>\n",
       "      <td>...</td>\n",
       "      <td>0</td>\n",
       "      <td>0</td>\n",
       "      <td>0</td>\n",
       "      <td>1</td>\n",
       "      <td>0</td>\n",
       "      <td>1.0</td>\n",
       "      <td>NaN</td>\n",
       "      <td>NaN</td>\n",
       "      <td>2</td>\n",
       "      <td>POINT (-72.60390 -39.36796)</td>\n",
       "    </tr>\n",
       "    <tr>\n",
       "      <th>227</th>\n",
       "      <td>17930</td>\n",
       "      <td>09.1.14.0461</td>\n",
       "      <td>50</td>\n",
       "      <td>674317.0</td>\n",
       "      <td>5676075.0</td>\n",
       "      <td>18.0</td>\n",
       "      <td>-39.047679</td>\n",
       "      <td>-72.986050</td>\n",
       "      <td>10</td>\n",
       "      <td>1</td>\n",
       "      <td>...</td>\n",
       "      <td>0</td>\n",
       "      <td>0</td>\n",
       "      <td>0</td>\n",
       "      <td>1</td>\n",
       "      <td>0</td>\n",
       "      <td>NaN</td>\n",
       "      <td>NaN</td>\n",
       "      <td>NaN</td>\n",
       "      <td>3</td>\n",
       "      <td>POINT (-72.98605 -39.04768)</td>\n",
       "    </tr>\n",
       "  </tbody>\n",
       "</table>\n",
       "<p>228 rows × 27 columns</p>\n",
       "</div>"
      ],
      "text/plain": [
       "         Id           RUP  Oficina  CoordenadaX  CoordenadaY  Huso    Latitud  \\\n",
       "0     40011  09.2.06.0178       51     704462.0    5780544.0  18.0 -38.100460   \n",
       "1     35837  09.2.10.0495       52     702969.0    5770696.0  18.0 -38.189481   \n",
       "2     89013  09.1.03.0160       48     745198.0    5678277.0  18.0 -39.010849   \n",
       "3     63532  09.1.05.0471       48     710615.0    5687635.0  18.0 -38.935606   \n",
       "4     55205  09.1.05.0848       48     728011.0    5695604.0  18.0 -38.859521   \n",
       "..      ...           ...      ...          ...          ...   ...        ...   \n",
       "223   38504  09.1.20.0030       50     736666.0    5646118.0  18.0 -39.302655   \n",
       "224   51225  09.1.07.0083       50     708055.0    5668049.0  18.0 -39.112557   \n",
       "225  123137  09.1.09.1371       50     721373.0    5640972.0  18.0 -39.353023   \n",
       "226  339912  09.1.09.2040       50     706451.0    5639723.0  18.0 -39.367961   \n",
       "227   17930  09.1.14.0461       50     674317.0    5676075.0  18.0 -39.047679   \n",
       "\n",
       "      Longitud  Peso Nivel Contagio  Peso Masa Entrada  ...   PositivosPc  \\\n",
       "0   -72.668583                    5                  1  ...             0   \n",
       "1   -72.682792                    5                  1  ...             0   \n",
       "2   -72.168567                    5                  1  ...             0   \n",
       "3   -72.570490                   10                  3  ...             0   \n",
       "4   -72.372626                   10                  1  ...             0   \n",
       "..         ...                  ...                ...  ...           ...   \n",
       "223 -72.255766                   10                  1  ...             0   \n",
       "224 -72.594026                   10                  1  ...             0   \n",
       "225 -72.431252                    1                  1  ...             0   \n",
       "226 -72.603897                   10                 10  ...             0   \n",
       "227 -72.986050                   10                  1  ...             0   \n",
       "\n",
       "     TodosNegativosLab  AlMenosUnPositivoLab  TodosNegativosPc  \\\n",
       "0                    0                     0                 1   \n",
       "1                    0                     0                 1   \n",
       "2                    0                     0                 1   \n",
       "3                    0                     0                 1   \n",
       "4                    0                     0                 1   \n",
       "..                 ...                   ...               ...   \n",
       "223                  0                     0                 1   \n",
       "224                  0                     0                 1   \n",
       "225                  0                     0                 1   \n",
       "226                  0                     0                 1   \n",
       "227                  0                     0                 1   \n",
       "\n",
       "     AlMenosUnPositivoPc  ClasificacionSanitaria   RiesgoMovimiento  \\\n",
       "0                      0                     1.0                NaN   \n",
       "1                      0                     NaN                NaN   \n",
       "2                      0                     1.0                NaN   \n",
       "3                      0                     1.0                NaN   \n",
       "4                      0                     1.0                NaN   \n",
       "..                   ...                     ...                ...   \n",
       "223                    0                     1.0                NaN   \n",
       "224                    0                     NaN                NaN   \n",
       "225                    0                     NaN                NaN   \n",
       "226                    0                     1.0                NaN   \n",
       "227                    0                     NaN                NaN   \n",
       "\n",
       "      TextoRiesgo  PREDICCION                     geometry  \n",
       "0             NaN           3  POINT (-72.66858 -38.10046)  \n",
       "1             NaN           6  POINT (-72.68279 -38.18948)  \n",
       "2             NaN           2  POINT (-72.16857 -39.01085)  \n",
       "3             NaN           2  POINT (-72.57049 -38.93561)  \n",
       "4             NaN           1  POINT (-72.37263 -38.85952)  \n",
       "..            ...         ...                          ...  \n",
       "223           NaN           3  POINT (-72.25577 -39.30266)  \n",
       "224           NaN           3  POINT (-72.59403 -39.11256)  \n",
       "225           NaN           5  POINT (-72.43125 -39.35302)  \n",
       "226           NaN           2  POINT (-72.60390 -39.36796)  \n",
       "227           NaN           3  POINT (-72.98605 -39.04768)  \n",
       "\n",
       "[228 rows x 27 columns]"
      ]
     },
     "execution_count": 97,
     "metadata": {},
     "output_type": "execute_result"
    }
   ],
   "source": [
    "\n",
    "df_pred\n",
    "\n"
   ]
  },
  {
   "cell_type": "code",
   "execution_count": 74,
   "metadata": {},
   "outputs": [],
   "source": [
    "df_pred.to_csv('./Region9Predict.csv',sep=';',index = False, encoding='utf-8')"
   ]
  },
  {
   "cell_type": "code",
   "execution_count": 100,
   "metadata": {},
   "outputs": [],
   "source": [
    "model_json = model.to_json()\n",
    "with open(\"modelo_pred_RiesgoMovimientoVigilancia.json\", \"w\") as json_file:\n",
    "    json_file.write(model_json)\n",
    "# serialize weights to HDF5\n",
    "model.save_weights(\"modelo_pred_RiesgoMovimientoVigilancia.h5\")"
   ]
  },
  {
   "cell_type": "markdown",
   "metadata": {},
   "source": [
    "# Monitorización con Tensorboard"
   ]
  },
  {
   "cell_type": "code",
   "execution_count": 76,
   "metadata": {},
   "outputs": [],
   "source": [
    "#Más información: https://www.tensorflow.org/tensorboard/"
   ]
  },
  {
   "cell_type": "code",
   "execution_count": 77,
   "metadata": {},
   "outputs": [],
   "source": [
    "from tensorflow.keras.callbacks import TensorBoard"
   ]
  },
  {
   "cell_type": "code",
   "execution_count": 78,
   "metadata": {},
   "outputs": [],
   "source": [
    "# WINDOWS: Usar \"logs\\\\fit\"\n",
    "# MACOS/LINUX: Usar \"logs\\fit\"\n",
    "\n",
    "log_directory = 'logs\\\\fit'\n",
    "\n",
    "# OPCIONAL: Añadir TIMESTAMP para tener una carpeta única\n",
    "#from datetime import datetime\n",
    "#timestamp = datetime.now().strftime(\"%Y-%m-%d--%H%M\")\n",
    "#log_directory = log_directory + '\\\\' + timestamp\n",
    "\n",
    "\n",
    "board = TensorBoard(log_dir=log_directory,histogram_freq=1,\n",
    "    write_graph=True,\n",
    "    write_images=True,\n",
    "    update_freq='epoch',\n",
    "    profile_batch=2,\n",
    "    embeddings_freq=1)"
   ]
  },
  {
   "cell_type": "markdown",
   "metadata": {},
   "source": [
    "## Entrenamiento del modelo"
   ]
  },
  {
   "cell_type": "code",
   "execution_count": 79,
   "metadata": {},
   "outputs": [],
   "source": [
    "model = Sequential()\n",
    "# Elegir número de capas (layers)\n",
    "# https://stats.stackexchange.com/questions/181/how-to-choose-the-number-of-hidden-layers-and-nodes-in-a-feedforward-neural-netw\n",
    "num_neuronas = X_train.shape[1]\n",
    "num_neuronas_salida = len(df[\" RiesgoMovimiento\"].unique()) # Indicar tantas neuronas de salida como clases a predecir, en este caso 3 (variable \"Interest_Rate\")\n",
    "\n",
    "model.add(Dense(units=num_neuronas,activation='relu'))\n",
    "#model.add(Dropout(0.2)) #la mitad de las neuronas en cada epoch para esta capa. Solo algunas neuronas se actualizarán en cada epoch, permitiendo que solo se ajusten algunos pesos (w) y bias (b) en cada iteración de manera independiente\n",
    "\n",
    "model.add(Dense(units=np.round(num_neuronas/2),activation='relu'))\n",
    "#model.add(Dropout(0.2)) #la mitad de las neuronas en cada epoch para esta capa\n",
    "\n",
    "model.add(Dense(units=num_neuronas_salida,activation='softmax')) # softmax para multiclase - softmax activation distribuye la probabilidad sobre cada nodo de salida (clase)\n",
    "\n",
    "# Para clasificación binaria \"binary_crossentropy\"\n",
    "model.compile(loss='categorical_crossentropy', optimizer='adam',metrics=['categorical_accuracy'])"
   ]
  },
  {
   "cell_type": "code",
   "execution_count": 80,
   "metadata": {},
   "outputs": [
    {
     "name": "stdout",
     "output_type": "stream",
     "text": [
      "Epoch 1/200\n",
      "338/338 [==============================] - 3s 4ms/step - loss: 1.9166 - categorical_accuracy: 0.3328 - val_loss: 1.4967 - val_categorical_accuracy: 0.5274\n",
      "Epoch 2/200\n",
      "338/338 [==============================] - 1s 3ms/step - loss: 1.2217 - categorical_accuracy: 0.5642 - val_loss: 1.0184 - val_categorical_accuracy: 0.6319\n",
      "Epoch 3/200\n",
      "338/338 [==============================] - 1s 3ms/step - loss: 0.9271 - categorical_accuracy: 0.6751 - val_loss: 0.8131 - val_categorical_accuracy: 0.7212\n",
      "Epoch 4/200\n",
      "338/338 [==============================] - 1s 3ms/step - loss: 0.7483 - categorical_accuracy: 0.7678 - val_loss: 0.6504 - val_categorical_accuracy: 0.8011\n",
      "Epoch 5/200\n",
      "338/338 [==============================] - 1s 3ms/step - loss: 0.5994 - categorical_accuracy: 0.8453 - val_loss: 0.5212 - val_categorical_accuracy: 0.8665\n",
      "Epoch 6/200\n",
      "338/338 [==============================] - 1s 3ms/step - loss: 0.4964 - categorical_accuracy: 0.8705 - val_loss: 0.4471 - val_categorical_accuracy: 0.8701\n",
      "Epoch 7/200\n",
      "338/338 [==============================] - 1s 3ms/step - loss: 0.4430 - categorical_accuracy: 0.8749 - val_loss: 0.4098 - val_categorical_accuracy: 0.8735\n",
      "Epoch 8/200\n",
      "338/338 [==============================] - 1s 3ms/step - loss: 0.4128 - categorical_accuracy: 0.8739 - val_loss: 0.3875 - val_categorical_accuracy: 0.8749\n",
      "Epoch 9/200\n",
      "338/338 [==============================] - 1s 3ms/step - loss: 0.3933 - categorical_accuracy: 0.8763 - val_loss: 0.3717 - val_categorical_accuracy: 0.8751\n",
      "Epoch 10/200\n",
      "338/338 [==============================] - 1s 3ms/step - loss: 0.3803 - categorical_accuracy: 0.8771 - val_loss: 0.3657 - val_categorical_accuracy: 0.8825\n",
      "Epoch 11/200\n",
      "338/338 [==============================] - 1s 3ms/step - loss: 0.3707 - categorical_accuracy: 0.8794 - val_loss: 0.3534 - val_categorical_accuracy: 0.8764\n",
      "Epoch 12/200\n",
      "338/338 [==============================] - 1s 3ms/step - loss: 0.3634 - categorical_accuracy: 0.8796 - val_loss: 0.3473 - val_categorical_accuracy: 0.8764\n",
      "Epoch 13/200\n",
      "338/338 [==============================] - 1s 3ms/step - loss: 0.3573 - categorical_accuracy: 0.8811 - val_loss: 0.3430 - val_categorical_accuracy: 0.8836\n",
      "Epoch 14/200\n",
      "338/338 [==============================] - 1s 3ms/step - loss: 0.3525 - categorical_accuracy: 0.8807 - val_loss: 0.3401 - val_categorical_accuracy: 0.8853\n",
      "Epoch 15/200\n",
      "338/338 [==============================] - 1s 3ms/step - loss: 0.3477 - categorical_accuracy: 0.8819 - val_loss: 0.3371 - val_categorical_accuracy: 0.8857\n",
      "Epoch 16/200\n",
      "338/338 [==============================] - 1s 3ms/step - loss: 0.3430 - categorical_accuracy: 0.8822 - val_loss: 0.3321 - val_categorical_accuracy: 0.8874\n",
      "Epoch 17/200\n",
      "338/338 [==============================] - 1s 3ms/step - loss: 0.3392 - categorical_accuracy: 0.8829 - val_loss: 0.3297 - val_categorical_accuracy: 0.8904\n",
      "Epoch 18/200\n",
      "338/338 [==============================] - 1s 3ms/step - loss: 0.3356 - categorical_accuracy: 0.8840 - val_loss: 0.3253 - val_categorical_accuracy: 0.8751\n",
      "Epoch 19/200\n",
      "338/338 [==============================] - 1s 3ms/step - loss: 0.3324 - categorical_accuracy: 0.8865 - val_loss: 0.3242 - val_categorical_accuracy: 0.8936\n",
      "Epoch 20/200\n",
      "338/338 [==============================] - 1s 3ms/step - loss: 0.3281 - categorical_accuracy: 0.8889 - val_loss: 0.3191 - val_categorical_accuracy: 0.8737\n",
      "Epoch 21/200\n",
      "338/338 [==============================] - 1s 3ms/step - loss: 0.3247 - categorical_accuracy: 0.8887 - val_loss: 0.3153 - val_categorical_accuracy: 0.8826\n",
      "Epoch 22/200\n",
      "338/338 [==============================] - 1s 4ms/step - loss: 0.3212 - categorical_accuracy: 0.8881 - val_loss: 0.3130 - val_categorical_accuracy: 0.8938\n",
      "Epoch 23/200\n",
      "338/338 [==============================] - 1s 3ms/step - loss: 0.3192 - categorical_accuracy: 0.8905 - val_loss: 0.3109 - val_categorical_accuracy: 0.8825\n",
      "Epoch 24/200\n",
      "338/338 [==============================] - 1s 3ms/step - loss: 0.3165 - categorical_accuracy: 0.8906 - val_loss: 0.3090 - val_categorical_accuracy: 0.8904\n",
      "Epoch 25/200\n",
      "338/338 [==============================] - 1s 3ms/step - loss: 0.3148 - categorical_accuracy: 0.8901 - val_loss: 0.3077 - val_categorical_accuracy: 0.8840\n",
      "Epoch 26/200\n",
      "338/338 [==============================] - 1s 3ms/step - loss: 0.3132 - categorical_accuracy: 0.8887 - val_loss: 0.3071 - val_categorical_accuracy: 0.8963\n",
      "Epoch 27/200\n",
      "338/338 [==============================] - 1s 4ms/step - loss: 0.3117 - categorical_accuracy: 0.8898 - val_loss: 0.3056 - val_categorical_accuracy: 0.8881\n",
      "Epoch 28/200\n",
      "338/338 [==============================] - 1s 3ms/step - loss: 0.3105 - categorical_accuracy: 0.8886 - val_loss: 0.3048 - val_categorical_accuracy: 0.8890\n",
      "Epoch 29/200\n",
      "338/338 [==============================] - 1s 3ms/step - loss: 0.3097 - categorical_accuracy: 0.8889 - val_loss: 0.3053 - val_categorical_accuracy: 0.9001\n",
      "Epoch 30/200\n",
      "338/338 [==============================] - 1s 4ms/step - loss: 0.3083 - categorical_accuracy: 0.8910 - val_loss: 0.3041 - val_categorical_accuracy: 0.8767\n",
      "Epoch 31/200\n",
      "338/338 [==============================] - 1s 3ms/step - loss: 0.3072 - categorical_accuracy: 0.8873 - val_loss: 0.3025 - val_categorical_accuracy: 0.8940\n",
      "Epoch 32/200\n",
      "338/338 [==============================] - 1s 3ms/step - loss: 0.3060 - categorical_accuracy: 0.8893 - val_loss: 0.3019 - val_categorical_accuracy: 0.8883\n",
      "Epoch 33/200\n",
      "338/338 [==============================] - 1s 3ms/step - loss: 0.3061 - categorical_accuracy: 0.8881 - val_loss: 0.3019 - val_categorical_accuracy: 0.8888\n",
      "Epoch 34/200\n",
      "338/338 [==============================] - 1s 3ms/step - loss: 0.3051 - categorical_accuracy: 0.8898 - val_loss: 0.2992 - val_categorical_accuracy: 0.8865\n",
      "Epoch 35/200\n",
      "338/338 [==============================] - 1s 4ms/step - loss: 0.3044 - categorical_accuracy: 0.8884 - val_loss: 0.2988 - val_categorical_accuracy: 0.8829\n",
      "Epoch 36/200\n",
      "338/338 [==============================] - 1s 4ms/step - loss: 0.3038 - categorical_accuracy: 0.8885 - val_loss: 0.3003 - val_categorical_accuracy: 0.8958\n",
      "Epoch 37/200\n",
      "338/338 [==============================] - 1s 3ms/step - loss: 0.3034 - categorical_accuracy: 0.8883 - val_loss: 0.3005 - val_categorical_accuracy: 0.8975\n",
      "Epoch 38/200\n",
      "338/338 [==============================] - 1s 3ms/step - loss: 0.3034 - categorical_accuracy: 0.8907 - val_loss: 0.2979 - val_categorical_accuracy: 0.8840\n",
      "Epoch 39/200\n",
      "338/338 [==============================] - 1s 3ms/step - loss: 0.3024 - categorical_accuracy: 0.8881 - val_loss: 0.2966 - val_categorical_accuracy: 0.8813\n",
      "Epoch 40/200\n",
      "338/338 [==============================] - 1s 3ms/step - loss: 0.3012 - categorical_accuracy: 0.8896 - val_loss: 0.2977 - val_categorical_accuracy: 0.8803\n",
      "Epoch 41/200\n",
      "338/338 [==============================] - 1s 3ms/step - loss: 0.3010 - categorical_accuracy: 0.8889 - val_loss: 0.2990 - val_categorical_accuracy: 0.8924\n",
      "Epoch 42/200\n",
      "338/338 [==============================] - 1s 4ms/step - loss: 0.3010 - categorical_accuracy: 0.8894 - val_loss: 0.2956 - val_categorical_accuracy: 0.8875\n",
      "Epoch 43/200\n",
      "338/338 [==============================] - 1s 3ms/step - loss: 0.3000 - categorical_accuracy: 0.8886 - val_loss: 0.2948 - val_categorical_accuracy: 0.8897\n",
      "Epoch 44/200\n",
      "338/338 [==============================] - 1s 4ms/step - loss: 0.2992 - categorical_accuracy: 0.8891 - val_loss: 0.2947 - val_categorical_accuracy: 0.8858\n",
      "Epoch 45/200\n",
      "338/338 [==============================] - 1s 4ms/step - loss: 0.2989 - categorical_accuracy: 0.8893 - val_loss: 0.2962 - val_categorical_accuracy: 0.8911\n",
      "Epoch 46/200\n",
      "338/338 [==============================] - 1s 3ms/step - loss: 0.2978 - categorical_accuracy: 0.8889 - val_loss: 0.2966 - val_categorical_accuracy: 0.8981\n",
      "Epoch 47/200\n",
      "338/338 [==============================] - 1s 3ms/step - loss: 0.2979 - categorical_accuracy: 0.8893 - val_loss: 0.2952 - val_categorical_accuracy: 0.8944\n",
      "Epoch 48/200\n",
      "338/338 [==============================] - 1s 3ms/step - loss: 0.2974 - categorical_accuracy: 0.8900 - val_loss: 0.2933 - val_categorical_accuracy: 0.8914\n",
      "Epoch 49/200\n",
      "338/338 [==============================] - 1s 3ms/step - loss: 0.2965 - categorical_accuracy: 0.8901 - val_loss: 0.2930 - val_categorical_accuracy: 0.8860\n",
      "Epoch 50/200\n",
      "338/338 [==============================] - 1s 3ms/step - loss: 0.2963 - categorical_accuracy: 0.8909 - val_loss: 0.2915 - val_categorical_accuracy: 0.8854\n",
      "Epoch 51/200\n",
      "338/338 [==============================] - 1s 3ms/step - loss: 0.2949 - categorical_accuracy: 0.8907 - val_loss: 0.2931 - val_categorical_accuracy: 0.8947\n",
      "Epoch 52/200\n",
      "338/338 [==============================] - 1s 3ms/step - loss: 0.2954 - categorical_accuracy: 0.8900 - val_loss: 0.2914 - val_categorical_accuracy: 0.8939\n",
      "Epoch 53/200\n",
      "338/338 [==============================] - 1s 3ms/step - loss: 0.2943 - categorical_accuracy: 0.8906 - val_loss: 0.2909 - val_categorical_accuracy: 0.8882\n",
      "Epoch 54/200\n",
      "338/338 [==============================] - 1s 3ms/step - loss: 0.2930 - categorical_accuracy: 0.8907 - val_loss: 0.2935 - val_categorical_accuracy: 0.8938\n",
      "Epoch 55/200\n",
      "338/338 [==============================] - 1s 3ms/step - loss: 0.2934 - categorical_accuracy: 0.8912 - val_loss: 0.2896 - val_categorical_accuracy: 0.8867\n",
      "Epoch 56/200\n",
      "338/338 [==============================] - 1s 3ms/step - loss: 0.2923 - categorical_accuracy: 0.8899 - val_loss: 0.2887 - val_categorical_accuracy: 0.8869\n",
      "Epoch 57/200\n",
      "338/338 [==============================] - 1s 3ms/step - loss: 0.2913 - categorical_accuracy: 0.8903 - val_loss: 0.2891 - val_categorical_accuracy: 0.8824\n",
      "Epoch 58/200\n",
      "338/338 [==============================] - 1s 3ms/step - loss: 0.2909 - categorical_accuracy: 0.8902 - val_loss: 0.2883 - val_categorical_accuracy: 0.8893\n",
      "Epoch 59/200\n",
      "338/338 [==============================] - 1s 3ms/step - loss: 0.2900 - categorical_accuracy: 0.8910 - val_loss: 0.2888 - val_categorical_accuracy: 0.8904\n",
      "Epoch 60/200\n",
      "338/338 [==============================] - 1s 3ms/step - loss: 0.2896 - categorical_accuracy: 0.8907 - val_loss: 0.2883 - val_categorical_accuracy: 0.8933\n",
      "Epoch 61/200\n",
      "338/338 [==============================] - 1s 3ms/step - loss: 0.2888 - categorical_accuracy: 0.8924 - val_loss: 0.2881 - val_categorical_accuracy: 0.8750\n",
      "Epoch 62/200\n",
      "338/338 [==============================] - 1s 3ms/step - loss: 0.2884 - categorical_accuracy: 0.8901 - val_loss: 0.2867 - val_categorical_accuracy: 0.8897\n",
      "Epoch 63/200\n",
      "338/338 [==============================] - 1s 2ms/step - loss: 0.2874 - categorical_accuracy: 0.8913 - val_loss: 0.2895 - val_categorical_accuracy: 0.8868\n",
      "Epoch 64/200\n",
      "338/338 [==============================] - 1s 3ms/step - loss: 0.2872 - categorical_accuracy: 0.8915 - val_loss: 0.2939 - val_categorical_accuracy: 0.8910\n",
      "Epoch 65/200\n",
      "338/338 [==============================] - 1s 3ms/step - loss: 0.2867 - categorical_accuracy: 0.8924 - val_loss: 0.2851 - val_categorical_accuracy: 0.8879\n",
      "Epoch 66/200\n",
      "338/338 [==============================] - 1s 3ms/step - loss: 0.2863 - categorical_accuracy: 0.8929 - val_loss: 0.2857 - val_categorical_accuracy: 0.8938\n",
      "Epoch 67/200\n",
      "338/338 [==============================] - 1s 3ms/step - loss: 0.2862 - categorical_accuracy: 0.8914 - val_loss: 0.2851 - val_categorical_accuracy: 0.8899\n",
      "Epoch 68/200\n",
      "338/338 [==============================] - 1s 3ms/step - loss: 0.2858 - categorical_accuracy: 0.8934 - val_loss: 0.2839 - val_categorical_accuracy: 0.8857\n",
      "Epoch 69/200\n",
      "338/338 [==============================] - 1s 3ms/step - loss: 0.2853 - categorical_accuracy: 0.8920 - val_loss: 0.2837 - val_categorical_accuracy: 0.8863\n",
      "Epoch 70/200\n",
      "338/338 [==============================] - 1s 3ms/step - loss: 0.2851 - categorical_accuracy: 0.8928 - val_loss: 0.2844 - val_categorical_accuracy: 0.8874\n",
      "Epoch 71/200\n",
      "338/338 [==============================] - 1s 3ms/step - loss: 0.2845 - categorical_accuracy: 0.8920 - val_loss: 0.2834 - val_categorical_accuracy: 0.8925\n",
      "Epoch 72/200\n",
      "338/338 [==============================] - 1s 3ms/step - loss: 0.2841 - categorical_accuracy: 0.8933 - val_loss: 0.2831 - val_categorical_accuracy: 0.8899\n",
      "Epoch 73/200\n",
      "338/338 [==============================] - 1s 3ms/step - loss: 0.2836 - categorical_accuracy: 0.8937 - val_loss: 0.2832 - val_categorical_accuracy: 0.8925\n",
      "Epoch 74/200\n",
      "338/338 [==============================] - 1s 3ms/step - loss: 0.2835 - categorical_accuracy: 0.8944 - val_loss: 0.2838 - val_categorical_accuracy: 0.8810\n",
      "Epoch 75/200\n",
      "338/338 [==============================] - 1s 3ms/step - loss: 0.2834 - categorical_accuracy: 0.8916 - val_loss: 0.2832 - val_categorical_accuracy: 0.8992\n",
      "Epoch 76/200\n",
      "338/338 [==============================] - 1s 3ms/step - loss: 0.2822 - categorical_accuracy: 0.8945 - val_loss: 0.2828 - val_categorical_accuracy: 0.8788\n",
      "Epoch 77/200\n",
      "338/338 [==============================] - 1s 3ms/step - loss: 0.2814 - categorical_accuracy: 0.8931 - val_loss: 0.2809 - val_categorical_accuracy: 0.8950\n",
      "Epoch 78/200\n",
      "338/338 [==============================] - 1s 3ms/step - loss: 0.2794 - categorical_accuracy: 0.8956 - val_loss: 0.2814 - val_categorical_accuracy: 0.8951\n",
      "Epoch 79/200\n",
      "338/338 [==============================] - 1s 3ms/step - loss: 0.2783 - categorical_accuracy: 0.8959 - val_loss: 0.2796 - val_categorical_accuracy: 0.8954\n",
      "Epoch 80/200\n",
      "338/338 [==============================] - 1s 3ms/step - loss: 0.2769 - categorical_accuracy: 0.8962 - val_loss: 0.2785 - val_categorical_accuracy: 0.8949\n",
      "Epoch 81/200\n",
      "338/338 [==============================] - 1s 3ms/step - loss: 0.2758 - categorical_accuracy: 0.8955 - val_loss: 0.2764 - val_categorical_accuracy: 0.8974\n",
      "Epoch 82/200\n",
      "338/338 [==============================] - 1s 3ms/step - loss: 0.2751 - categorical_accuracy: 0.8969 - val_loss: 0.2759 - val_categorical_accuracy: 0.8906\n",
      "Epoch 83/200\n",
      "338/338 [==============================] - 1s 3ms/step - loss: 0.2747 - categorical_accuracy: 0.8964 - val_loss: 0.2758 - val_categorical_accuracy: 0.8972\n",
      "Epoch 84/200\n",
      "338/338 [==============================] - 1s 3ms/step - loss: 0.2739 - categorical_accuracy: 0.8965 - val_loss: 0.2775 - val_categorical_accuracy: 0.9007\n",
      "Epoch 85/200\n",
      "338/338 [==============================] - 1s 3ms/step - loss: 0.2735 - categorical_accuracy: 0.8969 - val_loss: 0.2740 - val_categorical_accuracy: 0.8888\n",
      "Epoch 86/200\n",
      "338/338 [==============================] - 1s 3ms/step - loss: 0.2733 - categorical_accuracy: 0.8975 - val_loss: 0.2745 - val_categorical_accuracy: 0.8999\n",
      "Epoch 87/200\n",
      "338/338 [==============================] - 1s 3ms/step - loss: 0.2724 - categorical_accuracy: 0.8960 - val_loss: 0.2733 - val_categorical_accuracy: 0.8913\n",
      "Epoch 88/200\n",
      "338/338 [==============================] - 1s 3ms/step - loss: 0.2717 - categorical_accuracy: 0.8961 - val_loss: 0.2749 - val_categorical_accuracy: 0.8889\n",
      "Epoch 89/200\n",
      "338/338 [==============================] - 1s 3ms/step - loss: 0.2711 - categorical_accuracy: 0.8956 - val_loss: 0.2706 - val_categorical_accuracy: 0.8911\n",
      "Epoch 90/200\n",
      "338/338 [==============================] - 1s 3ms/step - loss: 0.2702 - categorical_accuracy: 0.8959 - val_loss: 0.2742 - val_categorical_accuracy: 0.8932\n",
      "Epoch 91/200\n",
      "338/338 [==============================] - 1s 3ms/step - loss: 0.2701 - categorical_accuracy: 0.8954 - val_loss: 0.2719 - val_categorical_accuracy: 0.8932\n",
      "Epoch 92/200\n",
      "338/338 [==============================] - 1s 3ms/step - loss: 0.2696 - categorical_accuracy: 0.8939 - val_loss: 0.2708 - val_categorical_accuracy: 0.8999\n",
      "Epoch 93/200\n",
      "338/338 [==============================] - 1s 3ms/step - loss: 0.2689 - categorical_accuracy: 0.8953 - val_loss: 0.2679 - val_categorical_accuracy: 0.8967\n",
      "Epoch 94/200\n",
      "338/338 [==============================] - 1s 3ms/step - loss: 0.2685 - categorical_accuracy: 0.8956 - val_loss: 0.2682 - val_categorical_accuracy: 0.8869\n",
      "Epoch 95/200\n",
      "338/338 [==============================] - 1s 3ms/step - loss: 0.2686 - categorical_accuracy: 0.8937 - val_loss: 0.2679 - val_categorical_accuracy: 0.8988\n",
      "Epoch 96/200\n",
      "338/338 [==============================] - 1s 3ms/step - loss: 0.2681 - categorical_accuracy: 0.8941 - val_loss: 0.2686 - val_categorical_accuracy: 0.8985\n",
      "Epoch 97/200\n",
      "338/338 [==============================] - 1s 3ms/step - loss: 0.2676 - categorical_accuracy: 0.8933 - val_loss: 0.2684 - val_categorical_accuracy: 0.8961\n",
      "Epoch 98/200\n",
      "338/338 [==============================] - 1s 3ms/step - loss: 0.2670 - categorical_accuracy: 0.8942 - val_loss: 0.2663 - val_categorical_accuracy: 0.8915\n",
      "Epoch 99/200\n",
      "338/338 [==============================] - 1s 3ms/step - loss: 0.2673 - categorical_accuracy: 0.8940 - val_loss: 0.2654 - val_categorical_accuracy: 0.8882\n",
      "Epoch 100/200\n",
      "338/338 [==============================] - 1s 3ms/step - loss: 0.2668 - categorical_accuracy: 0.8946 - val_loss: 0.2726 - val_categorical_accuracy: 0.8904\n",
      "Epoch 101/200\n",
      "338/338 [==============================] - 1s 3ms/step - loss: 0.2673 - categorical_accuracy: 0.8930 - val_loss: 0.2680 - val_categorical_accuracy: 0.8875\n",
      "Epoch 102/200\n",
      "338/338 [==============================] - 1s 3ms/step - loss: 0.2668 - categorical_accuracy: 0.8920 - val_loss: 0.2679 - val_categorical_accuracy: 0.8914\n",
      "Epoch 103/200\n",
      "338/338 [==============================] - 1s 3ms/step - loss: 0.2666 - categorical_accuracy: 0.8920 - val_loss: 0.2658 - val_categorical_accuracy: 0.8933\n",
      "Epoch 104/200\n",
      "338/338 [==============================] - 1s 3ms/step - loss: 0.2658 - categorical_accuracy: 0.8940 - val_loss: 0.2663 - val_categorical_accuracy: 0.8878\n",
      "Epoch 105/200\n",
      "338/338 [==============================] - 1s 3ms/step - loss: 0.2660 - categorical_accuracy: 0.8916 - val_loss: 0.2646 - val_categorical_accuracy: 0.8889\n",
      "Epoch 106/200\n",
      "338/338 [==============================] - 1s 3ms/step - loss: 0.2662 - categorical_accuracy: 0.8922 - val_loss: 0.2657 - val_categorical_accuracy: 0.8963\n",
      "Epoch 107/200\n",
      "338/338 [==============================] - 1s 3ms/step - loss: 0.2657 - categorical_accuracy: 0.8928 - val_loss: 0.2656 - val_categorical_accuracy: 0.8938\n",
      "Epoch 108/200\n",
      "338/338 [==============================] - 1s 3ms/step - loss: 0.2656 - categorical_accuracy: 0.8916 - val_loss: 0.2638 - val_categorical_accuracy: 0.8853\n",
      "Epoch 109/200\n",
      "338/338 [==============================] - 1s 3ms/step - loss: 0.2658 - categorical_accuracy: 0.8914 - val_loss: 0.2641 - val_categorical_accuracy: 0.8906\n",
      "Epoch 110/200\n",
      "338/338 [==============================] - 1s 3ms/step - loss: 0.2651 - categorical_accuracy: 0.8921 - val_loss: 0.2653 - val_categorical_accuracy: 0.8864\n",
      "Epoch 111/200\n",
      "338/338 [==============================] - 1s 3ms/step - loss: 0.2653 - categorical_accuracy: 0.8907 - val_loss: 0.2629 - val_categorical_accuracy: 0.8872\n",
      "Epoch 112/200\n",
      "338/338 [==============================] - 1s 3ms/step - loss: 0.2656 - categorical_accuracy: 0.8906 - val_loss: 0.2660 - val_categorical_accuracy: 0.8958\n",
      "Epoch 113/200\n",
      "338/338 [==============================] - 1s 3ms/step - loss: 0.2648 - categorical_accuracy: 0.8917 - val_loss: 0.2634 - val_categorical_accuracy: 0.8894\n",
      "Epoch 114/200\n",
      "338/338 [==============================] - 1s 3ms/step - loss: 0.2647 - categorical_accuracy: 0.8909 - val_loss: 0.2643 - val_categorical_accuracy: 0.8894\n",
      "Epoch 115/200\n",
      "338/338 [==============================] - 1s 3ms/step - loss: 0.2647 - categorical_accuracy: 0.8906 - val_loss: 0.2641 - val_categorical_accuracy: 0.8896\n",
      "Epoch 116/200\n",
      "338/338 [==============================] - 1s 3ms/step - loss: 0.2645 - categorical_accuracy: 0.8896 - val_loss: 0.2631 - val_categorical_accuracy: 0.8893\n",
      "Epoch 117/200\n",
      "338/338 [==============================] - 1s 3ms/step - loss: 0.2649 - categorical_accuracy: 0.8897 - val_loss: 0.2631 - val_categorical_accuracy: 0.8858\n",
      "Epoch 118/200\n",
      "338/338 [==============================] - 1s 3ms/step - loss: 0.2641 - categorical_accuracy: 0.8897 - val_loss: 0.2647 - val_categorical_accuracy: 0.8910\n",
      "Epoch 119/200\n",
      "338/338 [==============================] - 1s 3ms/step - loss: 0.2641 - categorical_accuracy: 0.8880 - val_loss: 0.2647 - val_categorical_accuracy: 0.8947\n",
      "Epoch 120/200\n",
      "338/338 [==============================] - 1s 3ms/step - loss: 0.2638 - categorical_accuracy: 0.8893 - val_loss: 0.2658 - val_categorical_accuracy: 0.8838\n",
      "Epoch 121/200\n",
      "338/338 [==============================] - 1s 3ms/step - loss: 0.2644 - categorical_accuracy: 0.8900 - val_loss: 0.2626 - val_categorical_accuracy: 0.8949\n",
      "Epoch 122/200\n",
      "338/338 [==============================] - 1s 3ms/step - loss: 0.2647 - categorical_accuracy: 0.8890 - val_loss: 0.2625 - val_categorical_accuracy: 0.8935\n",
      "Epoch 123/200\n",
      "338/338 [==============================] - 1s 3ms/step - loss: 0.2637 - categorical_accuracy: 0.8893 - val_loss: 0.2628 - val_categorical_accuracy: 0.8904\n",
      "Epoch 124/200\n",
      "338/338 [==============================] - 1s 3ms/step - loss: 0.2642 - categorical_accuracy: 0.8905 - val_loss: 0.2630 - val_categorical_accuracy: 0.8824\n",
      "Epoch 125/200\n",
      "338/338 [==============================] - 1s 3ms/step - loss: 0.2639 - categorical_accuracy: 0.8890 - val_loss: 0.2615 - val_categorical_accuracy: 0.8857\n",
      "Epoch 126/200\n",
      "338/338 [==============================] - 1s 3ms/step - loss: 0.2636 - categorical_accuracy: 0.8881 - val_loss: 0.2617 - val_categorical_accuracy: 0.8907\n",
      "Epoch 127/200\n",
      "338/338 [==============================] - 1s 3ms/step - loss: 0.2635 - categorical_accuracy: 0.8886 - val_loss: 0.2680 - val_categorical_accuracy: 0.8858\n",
      "Epoch 128/200\n",
      "338/338 [==============================] - 1s 3ms/step - loss: 0.2636 - categorical_accuracy: 0.8882 - val_loss: 0.2615 - val_categorical_accuracy: 0.8904\n",
      "Epoch 129/200\n",
      "338/338 [==============================] - 1s 3ms/step - loss: 0.2633 - categorical_accuracy: 0.8880 - val_loss: 0.2617 - val_categorical_accuracy: 0.8808\n",
      "Epoch 130/200\n",
      "338/338 [==============================] - 1s 3ms/step - loss: 0.2630 - categorical_accuracy: 0.8903 - val_loss: 0.2655 - val_categorical_accuracy: 0.8835\n",
      "Epoch 131/200\n",
      "338/338 [==============================] - 1s 3ms/step - loss: 0.2637 - categorical_accuracy: 0.8875 - val_loss: 0.2620 - val_categorical_accuracy: 0.8819\n",
      "Epoch 132/200\n",
      "338/338 [==============================] - 1s 3ms/step - loss: 0.2625 - categorical_accuracy: 0.8887 - val_loss: 0.2628 - val_categorical_accuracy: 0.8885\n",
      "Epoch 133/200\n",
      "338/338 [==============================] - 1s 3ms/step - loss: 0.2640 - categorical_accuracy: 0.8873 - val_loss: 0.2648 - val_categorical_accuracy: 0.8894\n",
      "Epoch 134/200\n",
      "338/338 [==============================] - 1s 3ms/step - loss: 0.2631 - categorical_accuracy: 0.8870 - val_loss: 0.2615 - val_categorical_accuracy: 0.8856\n",
      "Epoch 135/200\n",
      "338/338 [==============================] - 1s 3ms/step - loss: 0.2631 - categorical_accuracy: 0.8890 - val_loss: 0.2616 - val_categorical_accuracy: 0.8843\n",
      "Epoch 136/200\n",
      "338/338 [==============================] - 1s 3ms/step - loss: 0.2626 - categorical_accuracy: 0.8875 - val_loss: 0.2618 - val_categorical_accuracy: 0.8921\n",
      "Epoch 137/200\n",
      "338/338 [==============================] - 1s 3ms/step - loss: 0.2631 - categorical_accuracy: 0.8877 - val_loss: 0.2641 - val_categorical_accuracy: 0.8917\n",
      "Epoch 138/200\n",
      "338/338 [==============================] - 1s 3ms/step - loss: 0.2628 - categorical_accuracy: 0.8891 - val_loss: 0.2635 - val_categorical_accuracy: 0.8944\n",
      "Epoch 139/200\n",
      "338/338 [==============================] - 1s 3ms/step - loss: 0.2632 - categorical_accuracy: 0.8870 - val_loss: 0.2616 - val_categorical_accuracy: 0.8886\n",
      "Epoch 140/200\n",
      "338/338 [==============================] - 1s 3ms/step - loss: 0.2622 - categorical_accuracy: 0.8877 - val_loss: 0.2655 - val_categorical_accuracy: 0.8893\n",
      "Epoch 141/200\n",
      "338/338 [==============================] - 1s 3ms/step - loss: 0.2623 - categorical_accuracy: 0.8880 - val_loss: 0.2607 - val_categorical_accuracy: 0.8915\n",
      "Epoch 142/200\n",
      "338/338 [==============================] - 1s 3ms/step - loss: 0.2632 - categorical_accuracy: 0.8877 - val_loss: 0.2614 - val_categorical_accuracy: 0.8842\n",
      "Epoch 143/200\n",
      "338/338 [==============================] - 1s 3ms/step - loss: 0.2632 - categorical_accuracy: 0.8878 - val_loss: 0.2651 - val_categorical_accuracy: 0.8803\n",
      "Epoch 144/200\n",
      "338/338 [==============================] - 1s 3ms/step - loss: 0.2618 - categorical_accuracy: 0.8873 - val_loss: 0.2603 - val_categorical_accuracy: 0.8865\n",
      "Epoch 145/200\n",
      "338/338 [==============================] - 1s 3ms/step - loss: 0.2621 - categorical_accuracy: 0.8883 - val_loss: 0.2604 - val_categorical_accuracy: 0.8897\n",
      "Epoch 146/200\n",
      "338/338 [==============================] - 1s 3ms/step - loss: 0.2621 - categorical_accuracy: 0.8886 - val_loss: 0.2615 - val_categorical_accuracy: 0.8857\n",
      "Epoch 147/200\n",
      "338/338 [==============================] - 1s 3ms/step - loss: 0.2630 - categorical_accuracy: 0.8875 - val_loss: 0.2604 - val_categorical_accuracy: 0.8824\n",
      "Epoch 148/200\n",
      "338/338 [==============================] - 1s 3ms/step - loss: 0.2620 - categorical_accuracy: 0.8871 - val_loss: 0.2598 - val_categorical_accuracy: 0.8878\n",
      "Epoch 149/200\n",
      "338/338 [==============================] - 1s 3ms/step - loss: 0.2620 - categorical_accuracy: 0.8866 - val_loss: 0.2628 - val_categorical_accuracy: 0.8872\n",
      "Epoch 150/200\n",
      "338/338 [==============================] - 1s 3ms/step - loss: 0.2621 - categorical_accuracy: 0.8893 - val_loss: 0.2622 - val_categorical_accuracy: 0.8853\n",
      "Epoch 151/200\n",
      "338/338 [==============================] - 1s 3ms/step - loss: 0.2622 - categorical_accuracy: 0.8875 - val_loss: 0.2628 - val_categorical_accuracy: 0.8897\n",
      "Epoch 152/200\n",
      "338/338 [==============================] - 1s 3ms/step - loss: 0.2618 - categorical_accuracy: 0.8877 - val_loss: 0.2604 - val_categorical_accuracy: 0.8874\n",
      "Epoch 153/200\n",
      "338/338 [==============================] - 1s 3ms/step - loss: 0.2618 - categorical_accuracy: 0.8888 - val_loss: 0.2599 - val_categorical_accuracy: 0.8879\n",
      "Epoch 154/200\n",
      "338/338 [==============================] - 1s 3ms/step - loss: 0.2623 - categorical_accuracy: 0.8871 - val_loss: 0.2597 - val_categorical_accuracy: 0.8860\n",
      "Epoch 155/200\n",
      "338/338 [==============================] - 1s 3ms/step - loss: 0.2623 - categorical_accuracy: 0.8883 - val_loss: 0.2626 - val_categorical_accuracy: 0.8801\n",
      "Epoch 156/200\n",
      "338/338 [==============================] - 1s 3ms/step - loss: 0.2618 - categorical_accuracy: 0.8857 - val_loss: 0.2610 - val_categorical_accuracy: 0.8906\n",
      "Epoch 157/200\n",
      "338/338 [==============================] - 1s 3ms/step - loss: 0.2615 - categorical_accuracy: 0.8893 - val_loss: 0.2606 - val_categorical_accuracy: 0.8864\n",
      "Epoch 158/200\n",
      "338/338 [==============================] - 1s 3ms/step - loss: 0.2619 - categorical_accuracy: 0.8874 - val_loss: 0.2602 - val_categorical_accuracy: 0.8811\n",
      "Epoch 159/200\n",
      "338/338 [==============================] - 1s 3ms/step - loss: 0.2618 - categorical_accuracy: 0.8884 - val_loss: 0.2604 - val_categorical_accuracy: 0.8849\n",
      "Epoch 160/200\n",
      "338/338 [==============================] - 1s 3ms/step - loss: 0.2616 - categorical_accuracy: 0.8858 - val_loss: 0.2602 - val_categorical_accuracy: 0.8797\n",
      "Epoch 161/200\n",
      "338/338 [==============================] - 1s 3ms/step - loss: 0.2613 - categorical_accuracy: 0.8864 - val_loss: 0.2658 - val_categorical_accuracy: 0.8913\n",
      "Epoch 162/200\n",
      "338/338 [==============================] - 1s 3ms/step - loss: 0.2618 - categorical_accuracy: 0.8884 - val_loss: 0.2604 - val_categorical_accuracy: 0.8835\n",
      "Epoch 163/200\n",
      "338/338 [==============================] - 1s 3ms/step - loss: 0.2622 - categorical_accuracy: 0.8869 - val_loss: 0.2601 - val_categorical_accuracy: 0.8882\n",
      "Epoch 164/200\n",
      "338/338 [==============================] - 1s 3ms/step - loss: 0.2617 - categorical_accuracy: 0.8879 - val_loss: 0.2661 - val_categorical_accuracy: 0.8858\n",
      "Epoch 165/200\n",
      "338/338 [==============================] - 1s 3ms/step - loss: 0.2623 - categorical_accuracy: 0.8882 - val_loss: 0.2586 - val_categorical_accuracy: 0.8872\n",
      "Epoch 166/200\n",
      "338/338 [==============================] - 1s 3ms/step - loss: 0.2620 - categorical_accuracy: 0.8865 - val_loss: 0.2603 - val_categorical_accuracy: 0.8844\n",
      "Epoch 167/200\n",
      "338/338 [==============================] - 1s 3ms/step - loss: 0.2609 - categorical_accuracy: 0.8869 - val_loss: 0.2603 - val_categorical_accuracy: 0.8868\n",
      "Epoch 168/200\n",
      "338/338 [==============================] - 1s 3ms/step - loss: 0.2614 - categorical_accuracy: 0.8881 - val_loss: 0.2603 - val_categorical_accuracy: 0.8893\n",
      "Epoch 169/200\n",
      "338/338 [==============================] - 1s 3ms/step - loss: 0.2621 - categorical_accuracy: 0.8877 - val_loss: 0.2656 - val_categorical_accuracy: 0.8925\n",
      "Epoch 170/200\n",
      "338/338 [==============================] - 1s 3ms/step - loss: 0.2619 - categorical_accuracy: 0.8870 - val_loss: 0.2586 - val_categorical_accuracy: 0.8892\n",
      "Epoch 171/200\n",
      "338/338 [==============================] - 1s 3ms/step - loss: 0.2613 - categorical_accuracy: 0.8875 - val_loss: 0.2602 - val_categorical_accuracy: 0.8893\n",
      "Epoch 172/200\n",
      "338/338 [==============================] - 1s 3ms/step - loss: 0.2611 - categorical_accuracy: 0.8872 - val_loss: 0.2594 - val_categorical_accuracy: 0.8925\n",
      "Epoch 173/200\n",
      "338/338 [==============================] - 1s 3ms/step - loss: 0.2612 - categorical_accuracy: 0.8881 - val_loss: 0.2599 - val_categorical_accuracy: 0.8922\n",
      "Epoch 174/200\n",
      "338/338 [==============================] - 1s 3ms/step - loss: 0.2610 - categorical_accuracy: 0.8873 - val_loss: 0.2600 - val_categorical_accuracy: 0.8882\n",
      "Epoch 175/200\n",
      "338/338 [==============================] - 1s 3ms/step - loss: 0.2614 - categorical_accuracy: 0.8896 - val_loss: 0.2595 - val_categorical_accuracy: 0.8872\n",
      "Epoch 176/200\n",
      "338/338 [==============================] - 1s 3ms/step - loss: 0.2614 - categorical_accuracy: 0.8882 - val_loss: 0.2585 - val_categorical_accuracy: 0.8874\n",
      "Epoch 177/200\n",
      "338/338 [==============================] - 1s 3ms/step - loss: 0.2615 - categorical_accuracy: 0.8862 - val_loss: 0.2591 - val_categorical_accuracy: 0.8921\n",
      "Epoch 178/200\n",
      "338/338 [==============================] - 1s 3ms/step - loss: 0.2619 - categorical_accuracy: 0.8853 - val_loss: 0.2601 - val_categorical_accuracy: 0.8875\n",
      "Epoch 179/200\n",
      "338/338 [==============================] - 1s 3ms/step - loss: 0.2614 - categorical_accuracy: 0.8875 - val_loss: 0.2601 - val_categorical_accuracy: 0.8893\n",
      "Epoch 180/200\n",
      "338/338 [==============================] - 1s 3ms/step - loss: 0.2617 - categorical_accuracy: 0.8878 - val_loss: 0.2586 - val_categorical_accuracy: 0.8886\n",
      "Epoch 181/200\n",
      "338/338 [==============================] - 1s 3ms/step - loss: 0.2618 - categorical_accuracy: 0.8855 - val_loss: 0.2589 - val_categorical_accuracy: 0.8872\n",
      "Epoch 182/200\n",
      "338/338 [==============================] - 1s 3ms/step - loss: 0.2612 - categorical_accuracy: 0.8857 - val_loss: 0.2588 - val_categorical_accuracy: 0.8872\n",
      "Epoch 183/200\n",
      "338/338 [==============================] - 1s 3ms/step - loss: 0.2613 - categorical_accuracy: 0.8873 - val_loss: 0.2590 - val_categorical_accuracy: 0.8863\n",
      "Epoch 184/200\n",
      "338/338 [==============================] - 1s 3ms/step - loss: 0.2611 - categorical_accuracy: 0.8857 - val_loss: 0.2614 - val_categorical_accuracy: 0.8807\n",
      "Epoch 185/200\n",
      "338/338 [==============================] - 1s 3ms/step - loss: 0.2613 - categorical_accuracy: 0.8864 - val_loss: 0.2620 - val_categorical_accuracy: 0.8876\n",
      "Epoch 186/200\n",
      "338/338 [==============================] - 1s 3ms/step - loss: 0.2615 - categorical_accuracy: 0.8866 - val_loss: 0.2591 - val_categorical_accuracy: 0.8860\n",
      "Epoch 187/200\n",
      "338/338 [==============================] - 1s 3ms/step - loss: 0.2608 - categorical_accuracy: 0.8866 - val_loss: 0.2614 - val_categorical_accuracy: 0.8842\n",
      "Epoch 188/200\n",
      "338/338 [==============================] - 1s 3ms/step - loss: 0.2615 - categorical_accuracy: 0.8864 - val_loss: 0.2610 - val_categorical_accuracy: 0.8889\n",
      "Epoch 189/200\n",
      "338/338 [==============================] - 1s 3ms/step - loss: 0.2614 - categorical_accuracy: 0.8875 - val_loss: 0.2610 - val_categorical_accuracy: 0.8831\n",
      "Epoch 190/200\n",
      "338/338 [==============================] - 1s 3ms/step - loss: 0.2621 - categorical_accuracy: 0.8875 - val_loss: 0.2585 - val_categorical_accuracy: 0.8875\n",
      "Epoch 191/200\n",
      "338/338 [==============================] - 1s 3ms/step - loss: 0.2605 - categorical_accuracy: 0.8868 - val_loss: 0.2596 - val_categorical_accuracy: 0.8826\n",
      "Epoch 192/200\n",
      "338/338 [==============================] - 1s 3ms/step - loss: 0.2608 - categorical_accuracy: 0.8886 - val_loss: 0.2587 - val_categorical_accuracy: 0.8904\n",
      "Epoch 193/200\n",
      "338/338 [==============================] - 1s 3ms/step - loss: 0.2611 - categorical_accuracy: 0.8858 - val_loss: 0.2585 - val_categorical_accuracy: 0.8893\n",
      "Epoch 194/200\n",
      "338/338 [==============================] - 1s 3ms/step - loss: 0.2612 - categorical_accuracy: 0.8880 - val_loss: 0.2586 - val_categorical_accuracy: 0.8860\n",
      "Epoch 195/200\n",
      "338/338 [==============================] - 1s 3ms/step - loss: 0.2609 - categorical_accuracy: 0.8875 - val_loss: 0.2610 - val_categorical_accuracy: 0.8874\n",
      "Epoch 196/200\n",
      "338/338 [==============================] - 1s 3ms/step - loss: 0.2610 - categorical_accuracy: 0.8875 - val_loss: 0.2631 - val_categorical_accuracy: 0.8865\n",
      "Epoch 197/200\n",
      "338/338 [==============================] - 1s 3ms/step - loss: 0.2607 - categorical_accuracy: 0.8876 - val_loss: 0.2609 - val_categorical_accuracy: 0.8885\n",
      "Epoch 198/200\n",
      "338/338 [==============================] - 1s 3ms/step - loss: 0.2608 - categorical_accuracy: 0.8859 - val_loss: 0.2583 - val_categorical_accuracy: 0.8886\n",
      "Epoch 199/200\n",
      "338/338 [==============================] - 1s 3ms/step - loss: 0.2608 - categorical_accuracy: 0.8867 - val_loss: 0.2623 - val_categorical_accuracy: 0.8807\n",
      "Epoch 200/200\n",
      "338/338 [==============================] - 1s 3ms/step - loss: 0.2605 - categorical_accuracy: 0.8884 - val_loss: 0.2588 - val_categorical_accuracy: 0.8839\n"
     ]
    },
    {
     "data": {
      "text/plain": [
       "<keras.callbacks.History at 0x22dd35014f0>"
      ]
     },
     "execution_count": 80,
     "metadata": {},
     "output_type": "execute_result"
    }
   ],
   "source": [
    "model.fit(x=X_train, \n",
    "          y=y_train, \n",
    "          epochs=200,\n",
    "          batch_size=64,\n",
    "          validation_data=(X_test, y_test), verbose=1,\n",
    "          callbacks=[early_stop, board] #Añadimos el callback para monitorizar con tensorboard\n",
    "          )"
   ]
  },
  {
   "cell_type": "markdown",
   "metadata": {},
   "source": [
    "## Ejecutar Tensorboard"
   ]
  },
  {
   "cell_type": "markdown",
   "metadata": {},
   "source": [
    "Tensorboard estará operativa localmente en http://localhost:6006/"
   ]
  },
  {
   "cell_type": "code",
   "execution_count": 81,
   "metadata": {},
   "outputs": [
    {
     "data": {
      "text/plain": [
       "'C:\\\\Users\\\\pedro\\\\JupiterLABORATORIO\\\\ANN_RiesgoMovimiento'"
      ]
     },
     "execution_count": 81,
     "metadata": {},
     "output_type": "execute_result"
    }
   ],
   "source": [
    "pwd"
   ]
  },
  {
   "cell_type": "code",
   "execution_count": 82,
   "metadata": {},
   "outputs": [
    {
     "ename": "SyntaxError",
     "evalue": "invalid syntax (3037153000.py, line 1)",
     "output_type": "error",
     "traceback": [
      "\u001b[1;36m  Input \u001b[1;32mIn [82]\u001b[1;36m\u001b[0m\n\u001b[1;33m    Abrir cmd y dirigirse con cd hasta la ruta del fichero py (pwd) después ejecutar en cmd: tensorboard --logdir logs\\fit\u001b[0m\n\u001b[1;37m          ^\u001b[0m\n\u001b[1;31mSyntaxError\u001b[0m\u001b[1;31m:\u001b[0m invalid syntax\n"
     ]
    }
   ],
   "source": [
    "Abrir cmd y dirigirse con cd hasta la ruta del fichero py (pwd) después ejecutar en cmd: tensorboard --logdir logs\\fit "
   ]
  }
 ],
 "metadata": {
  "kernelspec": {
   "display_name": "Python 3 (ipykernel)",
   "language": "python",
   "name": "python3"
  },
  "language_info": {
   "codemirror_mode": {
    "name": "ipython",
    "version": 3
   },
   "file_extension": ".py",
   "mimetype": "text/x-python",
   "name": "python",
   "nbconvert_exporter": "python",
   "pygments_lexer": "ipython3",
   "version": "3.9.12"
  }
 },
 "nbformat": 4,
 "nbformat_minor": 4
}
